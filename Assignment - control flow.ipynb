{
 "cells": [
  {
   "cell_type": "markdown",
   "metadata": {},
   "source": [
    "if else statement"
   ]
  },
  {
   "cell_type": "markdown",
   "metadata": {},
   "source": [
    "Q1) Write a Python program to check if a given number is positive or negative."
   ]
  },
  {
   "cell_type": "code",
   "execution_count": 4,
   "metadata": {},
   "outputs": [
    {
     "name": "stdout",
     "output_type": "stream",
     "text": [
      "Entered no. : -1\n",
      "The entered number is Negative\n"
     ]
    }
   ],
   "source": [
    "num = int(input(\"Enter your number :\"))\n",
    "print(\"Entered no. :\",num)\n",
    "if num > 0:\n",
    "    print(\"The entered number is Positive\")\n",
    "else:\n",
    "    print(\"The entered number is Negative\")"
   ]
  },
  {
   "cell_type": "markdown",
   "metadata": {},
   "source": [
    "Q2) Create a program that determines if a person is eligible to vote based on their age."
   ]
  },
  {
   "cell_type": "code",
   "execution_count": 5,
   "metadata": {},
   "outputs": [
    {
     "name": "stdout",
     "output_type": "stream",
     "text": [
      "Entered age : 25\n",
      "Your eligible, You can vote\n"
     ]
    }
   ],
   "source": [
    "input_age = int(input(\"Enter your age\"))\n",
    "print(\"Entered age :\",input_age)\n",
    "\n",
    "if input_age > 18:\n",
    "    print(\"Your eligible, You can vote\")\n",
    "else:\n",
    "    print(\"Your under age. you can not vote\")"
   ]
  },
  {
   "cell_type": "markdown",
   "metadata": {},
   "source": [
    "Q3 )Develop a program to find the maximum of two numbers using if-else statements."
   ]
  },
  {
   "cell_type": "code",
   "execution_count": 8,
   "metadata": {},
   "outputs": [
    {
     "name": "stdout",
     "output_type": "stream",
     "text": [
      "maximum number is: [100]\n"
     ]
    }
   ],
   "source": [
    "a=10;b=100\n",
    "x=[a if a>b else b]\n",
    "print(\"maximum number is:\",x)\n"
   ]
  },
  {
   "cell_type": "markdown",
   "metadata": {},
   "source": [
    "Q4) Write a Python script to classify a given year as a leap year or not."
   ]
  },
  {
   "cell_type": "code",
   "execution_count": 20,
   "metadata": {},
   "outputs": [
    {
     "name": "stdout",
     "output_type": "stream",
     "text": [
      "Its a leap year\n"
     ]
    }
   ],
   "source": [
    "year = 2008\n",
    "\n",
    "if(year % 400 == 0) and (year % 100 == 0):\n",
    "    print (\"Its leap year\")\n",
    "elif (year %4 == 0) and (year %100 != 0):\n",
    "    print(\"Its a leap year\")\n",
    "else:\n",
    "    print(\"Its not a leap year\")"
   ]
  },
  {
   "cell_type": "markdown",
   "metadata": {},
   "source": [
    "Q5) Create a program that checks whether a character is a vowel or a consonant."
   ]
  },
  {
   "cell_type": "code",
   "execution_count": 3,
   "metadata": {},
   "outputs": [
    {
     "name": "stdout",
     "output_type": "stream",
     "text": [
      "Entered character : c\n",
      "The character is consonant\n"
     ]
    }
   ],
   "source": [
    "user_input = str(input(\"Enter the character to check\"))\n",
    "print(\"Entered character :\",user_input)\n",
    "input1 = user_input.lower()\n",
    "for i in input1:\n",
    "    if(i == 'a' or i == 'e' or i == 'i' or i == 'o' or i == 'u'):\n",
    "        print(\"The character is vowel\")\n",
    "    else:\n",
    "        print(\"The character is consonant\")"
   ]
  },
  {
   "cell_type": "markdown",
   "metadata": {},
   "source": [
    "Q6) Implement a program to determine whether a given number is even or odd."
   ]
  },
  {
   "cell_type": "code",
   "execution_count": 36,
   "metadata": {},
   "outputs": [
    {
     "name": "stdout",
     "output_type": "stream",
     "text": [
      "Entered number 5\n",
      "Entered number is odd\n"
     ]
    }
   ],
   "source": [
    "user_input = int(input(\"Enter your number\"))\n",
    "print(\"Entered number\",user_input)\n",
    "\n",
    "if (user_input%2) == 0:\n",
    "    print(\"Entered number is even\")\n",
    "else:\n",
    "    print(\"Entered number is odd\")"
   ]
  },
  {
   "cell_type": "markdown",
   "metadata": {},
   "source": [
    "7. Write a Python function to calculate the absolute value of a number without using the `abs()` function."
   ]
  },
  {
   "cell_type": "code",
   "execution_count": 40,
   "metadata": {},
   "outputs": [
    {
     "name": "stdout",
     "output_type": "stream",
     "text": [
      "Here's the absolute value:  3.5\n"
     ]
    }
   ],
   "source": [
    "\n",
    "num = float(input(\"Enter any number: \"))\n",
    "if num < 0 :\n",
    "    print(\"Here's the absolute value: \", num*-1)\n",
    "elif num == 0 :\n",
    "    print(\"Here's the absolute value: 0\")\n",
    "elif num > 0 :\n",
    "    print(\"Here's the absolute value: \", num)"
   ]
  },
  {
   "cell_type": "markdown",
   "metadata": {},
   "source": [
    "Q8) Develop a program that determines the largest of three given numbers using if-else statements."
   ]
  },
  {
   "cell_type": "code",
   "execution_count": 41,
   "metadata": {},
   "outputs": [
    {
     "name": "stdout",
     "output_type": "stream",
     "text": [
      "The largest number is 14\n"
     ]
    }
   ],
   "source": [
    "num1 = 10\n",
    "num2 = 14\n",
    "num3 = 12\n",
    "\n",
    "if (num1 >= num2) and (num1 >= num3):\n",
    "   largest = num1\n",
    "elif (num2 >= num1) and (num2 >= num3):\n",
    "   largest = num2\n",
    "else:\n",
    "   largest = num3\n",
    "\n",
    "print(\"The largest number is\", largest)"
   ]
  },
  {
   "cell_type": "markdown",
   "metadata": {},
   "source": [
    "Q9) Create a program that checks if a given string is a palindrome."
   ]
  },
  {
   "cell_type": "code",
   "execution_count": 45,
   "metadata": {},
   "outputs": [
    {
     "name": "stdout",
     "output_type": "stream",
     "text": [
      "The given string is palindrome\n"
     ]
    }
   ],
   "source": [
    "input_string = (\"GADAG\")\n",
    "input_string2 = input_string[::-1]\n",
    "\n",
    "if input_string == input_string2:\n",
    "    print(\"The given string is palindrome\")\n",
    "else:\n",
    "    print(\"The given string is not palindrome\")\n"
   ]
  },
  {
   "cell_type": "markdown",
   "metadata": {},
   "source": [
    "Q10) Write a Python program to calculate the grade based on a student's score."
   ]
  },
  {
   "cell_type": "code",
   "execution_count": 48,
   "metadata": {},
   "outputs": [
    {
     "name": "stdout",
     "output_type": "stream",
     "text": [
      "Entered score 70\n",
      "good performance your grade is B\n"
     ]
    }
   ],
   "source": [
    "score = int(input(\"Enter your score\"))\n",
    "print(\"Entered score\",score)\n",
    "\n",
    "if score >=90:\n",
    "    print(\"excellent performance your grade is A+\")\n",
    "elif score >= 80:\n",
    "    print(\"very good performance your grade is A\")\n",
    "elif score >= 70:\n",
    "    print(\"good performance your grade is B\")\n",
    "elif score >= 35:\n",
    "    print(\"pass your grade is C\")\n",
    "else:\n",
    "    print(\"your falied\")"
   ]
  },
  {
   "cell_type": "markdown",
   "metadata": {},
   "source": [
    "Nested if-Else statements "
   ]
  },
  {
   "cell_type": "markdown",
   "metadata": {},
   "source": [
    "Q11) Write a program to find the largest among three numbers using nested if-else statements."
   ]
  },
  {
   "cell_type": "code",
   "execution_count": 49,
   "metadata": {},
   "outputs": [
    {
     "name": "stdout",
     "output_type": "stream",
     "text": [
      "The largest number among 10.0, 20.0, and 30.0 is 30.0.\n"
     ]
    }
   ],
   "source": [
    "\n",
    "num1 = float(input(\"Enter the first number: \"))\n",
    "num2 = float(input(\"Enter the second number: \"))\n",
    "num3 = float(input(\"Enter the third number: \"))\n",
    "\n",
    "\n",
    "if num1 >= num2:\n",
    "    if num1 >= num3:\n",
    "        largest = num1\n",
    "    else:\n",
    "        largest = num3\n",
    "else:\n",
    "    if num2 >= num3:\n",
    "        largest = num2\n",
    "    else:\n",
    "        largest = num3\n",
    "\n",
    "print(f\"The largest number among {num1}, {num2}, and {num3} is {largest}.\")\n"
   ]
  },
  {
   "cell_type": "markdown",
   "metadata": {},
   "source": [
    "Q12) Implement a program to determine if a triangle is equilateral, isosceles, or scalene."
   ]
  },
  {
   "cell_type": "code",
   "execution_count": 50,
   "metadata": {},
   "outputs": [
    {
     "name": "stdout",
     "output_type": "stream",
     "text": [
      "It's an equilateral triangle.\n"
     ]
    }
   ],
   "source": [
    "\n",
    "side1 = float(input(\"Enter the length of the first side: \"))\n",
    "side2 = float(input(\"Enter the length of the second side: \"))\n",
    "side3 = float(input(\"Enter the length of the third side: \"))\n",
    "\n",
    "\n",
    "if side1 + side2 > side3 and side1 + side3 > side2 and side2 + side3 > side1:\n",
    "    # Check for equilateral triangle (all sides are equal)\n",
    "    if side1 == side2 == side3:\n",
    "        print(\"It's an equilateral triangle.\")\n",
    "    # Check for isosceles triangle (two sides are equal)\n",
    "    elif side1 == side2 or side1 == side3 or side2 == side3:\n",
    "        print(\"It's an isosceles triangle.\")\n",
    "    # If none of the above conditions are met, it's scalene\n",
    "    else:\n",
    "        print(\"It's a scalene triangle.\")\n",
    "else:\n",
    "    print(\"Invalid input. The given sides do not form a triangle.\")\n"
   ]
  },
  {
   "cell_type": "markdown",
   "metadata": {},
   "source": [
    "Q13) Develop a program that checks if a year is a leap year and also if it is a century year."
   ]
  },
  {
   "cell_type": "code",
   "execution_count": 51,
   "metadata": {},
   "outputs": [
    {
     "name": "stdout",
     "output_type": "stream",
     "text": [
      "1990 is not a leap year.\n"
     ]
    }
   ],
   "source": [
    "\n",
    "year = int(input(\"Enter a year: \"))\n",
    "\n",
    "# Check if it's a leap year (divisible by 4)\n",
    "if year % 4 == 0:\n",
    "    # If it's a century year, check if it's divisible by 400 to be a leap year\n",
    "    if year % 100 == 0:\n",
    "        if year % 400 == 0:\n",
    "            print(f\"{year} is a leap year and a century year.\")\n",
    "        else:\n",
    "            print(f\"{year} is a century year but not a leap year.\")\n",
    "    else:\n",
    "        print(f\"{year} is a leap year but not a century year.\")\n",
    "else:\n",
    "    print(f\"{year} is not a leap year.\")\n"
   ]
  },
  {
   "cell_type": "markdown",
   "metadata": {},
   "source": [
    "Q14) Write a Python script to determine if a number is positive, negative, or zero."
   ]
  },
  {
   "cell_type": "code",
   "execution_count": 52,
   "metadata": {},
   "outputs": [
    {
     "name": "stdout",
     "output_type": "stream",
     "text": [
      "The number is positive.\n"
     ]
    }
   ],
   "source": [
    "\n",
    "number = int(input(\"Enter a number: \"))\n",
    "\n",
    "if number > 0:\n",
    "    print(\"The number is positive.\")\n",
    "elif number < 0:\n",
    "    print(\"The number is negative.\")\n",
    "else:\n",
    "    print(\"The number is zero.\")\n"
   ]
  },
  {
   "cell_type": "markdown",
   "metadata": {},
   "source": [
    "Q15) Create a program to check if a person is a teenager (between 13 and 19 years old)."
   ]
  },
  {
   "cell_type": "code",
   "execution_count": 54,
   "metadata": {},
   "outputs": [
    {
     "name": "stdout",
     "output_type": "stream",
     "text": [
      "Entered age : 17\n",
      "You are a teenager.\n"
     ]
    }
   ],
   "source": [
    "age = int(input(\"Enter your age: \"))\n",
    "print(\"Entered age :\",age)\n",
    "\n",
    "if age >= 13:\n",
    "    if age <= 19:\n",
    "        print(\"You are a teenager.\")\n",
    "    else:\n",
    "        print(\"You are not a teenager.\")\n",
    "else:\n",
    "    print(\"You are not a teenager.\")\n"
   ]
  },
  {
   "cell_type": "markdown",
   "metadata": {},
   "source": [
    "Q16) Develop a program that determines the type of angle based on its measure (acute, obtuse, or right)."
   ]
  },
  {
   "cell_type": "code",
   "execution_count": 55,
   "metadata": {},
   "outputs": [
    {
     "name": "stdout",
     "output_type": "stream",
     "text": [
      "The angle with a measure of 52.0 degrees is a Acute Angle.\n"
     ]
    }
   ],
   "source": [
    "\n",
    "angle_measure = float(input(\"Enter the angle measure in degrees: \"))\n",
    "\n",
    "# Check if the angle is acute, obtuse, or right\n",
    "if angle_measure < 90:\n",
    "    angle_type = \"Acute Angle\"\n",
    "elif angle_measure == 90:\n",
    "    angle_type = \"Right Angle\"\n",
    "else:\n",
    "    angle_type = \"Obtuse Angle\"\n",
    "\n",
    "print(f\"The angle with a measure of {angle_measure} degrees is a {angle_type}.\")\n"
   ]
  },
  {
   "cell_type": "markdown",
   "metadata": {},
   "source": [
    "Q17) Write a Python program to calculate the roots of a quadratic equation."
   ]
  },
  {
   "cell_type": "code",
   "execution_count": 56,
   "metadata": {},
   "outputs": [
    {
     "name": "stdout",
     "output_type": "stream",
     "text": [
      "The roots are complex: -0.4 + 0.4898979485566356i and -0.4 - 0.4898979485566356i\n"
     ]
    }
   ],
   "source": [
    "import math\n",
    "\n",
    "a = float(input(\"Enter the coefficient a: \"))\n",
    "b = float(input(\"Enter the coefficient b: \"))\n",
    "c = float(input(\"Enter the coefficient c: \"))\n",
    "\n",
    "discriminant = b**2 - 4*a*c\n",
    "\n",
    "if discriminant > 0:\n",
    "    # Two real and distinct roots\n",
    "    root1 = (-b + math.sqrt(discriminant)) / (2*a)\n",
    "    root2 = (-b - math.sqrt(discriminant)) / (2*a)\n",
    "    print(f\"The roots are real and distinct: {root1} and {root2}\")\n",
    "elif discriminant == 0:\n",
    "    # One real root (repeated)\n",
    "    root = -b / (2*a)\n",
    "    print(f\"The root is real and repeated: {root}\")\n",
    "else:\n",
    "    # Complex roots\n",
    "    real_part = -b / (2*a)\n",
    "    imaginary_part = math.sqrt(abs(discriminant)) / (2*a)\n",
    "    print(f\"The roots are complex: {real_part} + {imaginary_part}i and {real_part} - {imaginary_part}i\")\n"
   ]
  },
  {
   "cell_type": "code",
   "execution_count": 57,
   "metadata": {},
   "outputs": [
    {
     "name": "stdout",
     "output_type": "stream",
     "text": [
      "The day of the week is Sunday\n"
     ]
    }
   ],
   "source": [
    "\n",
    "user_input = int(input(\"Enter a number (1 for Monday, 2 for Tuesday, etc.): \"))\n",
    "\n",
    "# Check the user input and determine the day of the week\n",
    "if user_input == 1:\n",
    "    day = \"Monday\"\n",
    "elif user_input == 2:\n",
    "    day = \"Tuesday\"\n",
    "elif user_input == 3:\n",
    "    day = \"Wednesday\"\n",
    "elif user_input == 4:\n",
    "    day = \"Thursday\"\n",
    "elif user_input == 5:\n",
    "    day = \"Friday\"\n",
    "elif user_input == 6:\n",
    "    day = \"Saturday\"\n",
    "elif user_input == 7:\n",
    "    day = \"Sunday\"\n",
    "else:\n",
    "    day = \"Invalid input. Please enter a number between 1 and 7.\"\n",
    "\n",
    "print(f\"The day of the week is {day}\")\n"
   ]
  },
  {
   "cell_type": "markdown",
   "metadata": {},
   "source": [
    "Q19) Create a program that determines if a year is a leap year and also if it is evenly divisible by 400."
   ]
  },
  {
   "cell_type": "code",
   "execution_count": 58,
   "metadata": {},
   "outputs": [
    {
     "name": "stdout",
     "output_type": "stream",
     "text": [
      "2000 is a leap year and evenly divisible by 400.\n"
     ]
    }
   ],
   "source": [
    "\n",
    "year = int(input(\"Enter a year: \"))\n",
    "\n",
    "if year % 4 == 0:\n",
    "    # If it is divisible by 4, check if it is evenly divisible by 100\n",
    "    if year % 100 == 0:\n",
    "        # If it is divisible by 100, check if it is evenly divisible by 400\n",
    "        if year % 400 == 0:\n",
    "            print(year, \"is a leap year and evenly divisible by 400.\")\n",
    "        else:\n",
    "            print(year, \"is not a leap year and not evenly divisible by 400.\")\n",
    "    else:\n",
    "        print(year, \"is a leap year and not divisible by 100.\")\n",
    "else:\n",
    "    print(year, \"is not a leap year.\")\n"
   ]
  },
  {
   "cell_type": "markdown",
   "metadata": {},
   "source": [
    "Q20) Develop a program that checks if a given number is prime or not using nested if-else statements."
   ]
  },
  {
   "cell_type": "code",
   "execution_count": 59,
   "metadata": {},
   "outputs": [
    {
     "name": "stdout",
     "output_type": "stream",
     "text": [
      "7 is a prime number.\n"
     ]
    }
   ],
   "source": [
    "\n",
    "num = int(input(\"Enter a number: \"))\n",
    "\n",
    "if num < 2:\n",
    "    print(num, \"is not a prime number.\")\n",
    "else:\n",
    "    is_prime = True\n",
    "    for i in range(2, int(num**0.5) + 1):\n",
    "        if num % i == 0:\n",
    "            is_prime = False\n",
    "            break\n",
    "    \n",
    "\n",
    "    if is_prime:\n",
    "        print(num, \"is a prime number.\")\n",
    "    else:\n",
    "        print(num, \"is not a prime number.\")\n"
   ]
  },
  {
   "cell_type": "markdown",
   "metadata": {},
   "source": [
    "Elif Statements:"
   ]
  },
  {
   "cell_type": "markdown",
   "metadata": {},
   "source": [
    "21) Write a Python program to assign grades based on different ranges of scores using elif statements."
   ]
  },
  {
   "cell_type": "code",
   "execution_count": 65,
   "metadata": {},
   "outputs": [
    {
     "name": "stdout",
     "output_type": "stream",
     "text": [
      "Entered score 20\n",
      "your falied\n"
     ]
    }
   ],
   "source": [
    "score = int(input(\"Enter your score\"))\n",
    "print(\"Entered score\",score)\n",
    "\n",
    "if score >=90:\n",
    "    print(\"excellent performance your grade is A+\")\n",
    "elif score >= 80:\n",
    "    print(\"very good performance your grade is A\")\n",
    "elif score >= 70:\n",
    "    print(\"good performance your grade is B\")\n",
    "elif score >= 35:\n",
    "    print(\"pass your grade is C\")\n",
    "else:\n",
    "    print(\"your falied\")"
   ]
  },
  {
   "cell_type": "markdown",
   "metadata": {},
   "source": [
    "Q22)Implement a program to determine the type of a triangle based on its angles."
   ]
  },
  {
   "cell_type": "code",
   "execution_count": 73,
   "metadata": {},
   "outputs": [
    {
     "name": "stdout",
     "output_type": "stream",
     "text": [
      "This is a Right Triangle.\n"
     ]
    }
   ],
   "source": [
    "\n",
    "angle1 = int(input(\"Enter the first angle: \"))\n",
    "angle2 = int(input(\"Enter the second angle: \"))\n",
    "angle3 = int(input(\"Enter the third angle: \"))\n",
    "\n",
    "\n",
    "if angle1 + angle2 + angle3 == 180:\n",
    "    \n",
    "    if angle1 < 90 and angle2 < 90 and angle3 < 90:\n",
    "        print(\"This is an Acute Triangle.\")\n",
    "    elif angle1 == 90 or angle2 == 90 or angle3 == 90:\n",
    "        print(\"This is a Right Triangle.\")\n",
    "    else:\n",
    "        print(\"This is an Obtuse Triangle.\")\n",
    "        \n",
    "else:\n",
    "    print(\"These angles do not form a valid triangle.\")\n"
   ]
  },
  {
   "cell_type": "markdown",
   "metadata": {},
   "source": [
    "Q23) Develop a program to categorize a given person's BMI into underweight, normal, overweight, or obese using\n",
    "elif statements."
   ]
  },
  {
   "cell_type": "code",
   "execution_count": 74,
   "metadata": {},
   "outputs": [
    {
     "name": "stdout",
     "output_type": "stream",
     "text": [
      "Your BMI is 1.78, and you are categorized as Underweight.\n"
     ]
    }
   ],
   "source": [
    "\n",
    "weight = float(input(\"Enter your weight (kg): \"))\n",
    "height = float(input(\"Enter your height (m): \"))\n",
    "\n",
    "# BMI\n",
    "bmi = weight / (height ** 2)\n",
    "\n",
    "if bmi < 18.5:\n",
    "    category = \"Underweight\"\n",
    "elif 18.5 <= bmi < 24.9:\n",
    "    category = \"Normal Weight\"\n",
    "elif 25 <= bmi < 29.9:\n",
    "    category = \"Overweight\"\n",
    "else:\n",
    "    category = \"Obese\"\n",
    "\n",
    "print(f\"Your BMI is {bmi:.2f}, and you are categorized as {category}.\")\n"
   ]
  },
  {
   "cell_type": "markdown",
   "metadata": {},
   "source": [
    "Q24) Create a program that determines whether a given number is positive, negative, or zero using elif statements."
   ]
  },
  {
   "cell_type": "code",
   "execution_count": 5,
   "metadata": {},
   "outputs": [
    {
     "name": "stdout",
     "output_type": "stream",
     "text": [
      "The number is positive.\n"
     ]
    }
   ],
   "source": [
    "number = int(input(\"Enter a number: \"))\n",
    "\n",
    "if number > 0:\n",
    "    print(\"The number is positive.\")\n",
    "elif number < 0:\n",
    "    print(\"The number is negative.\")\n",
    "else:\n",
    "    print(\"The number is zero.\")\n"
   ]
  },
  {
   "cell_type": "markdown",
   "metadata": {},
   "source": [
    "25. Write a Python script to determine the type of a character (uppercase, lowercase, or special) using elif statements."
   ]
  },
  {
   "cell_type": "code",
   "execution_count": 5,
   "metadata": {},
   "outputs": [
    {
     "name": "stdout",
     "output_type": "stream",
     "text": [
      "The character is uppercase.\n"
     ]
    }
   ],
   "source": [
    "character = input(\"Enter a character: \")\n",
    "\n",
    "if character.isalpha():\n",
    "    if character.islower():\n",
    "        print(f\"The character is lowercase.\")\n",
    "    else:\n",
    "        print(\"The character is uppercase.\")\n",
    "else:\n",
    "    print(\"The character is special.\")\n"
   ]
  },
  {
   "cell_type": "markdown",
   "metadata": {},
   "source": [
    "Q26) Implement a program to calculate the discounted price based on different purchase amounts using elif statements."
   ]
  },
  {
   "cell_type": "code",
   "execution_count": 4,
   "metadata": {},
   "outputs": [
    {
     "name": "stdout",
     "output_type": "stream",
     "text": [
      "Original Price: 250.00\n",
      "Discount Applied: 12.50\n",
      "Discounted Price: 237.50\n"
     ]
    }
   ],
   "source": [
    "\n",
    "purchase_amount = float(input(\"Enter the purchase amount: \"))\n",
    "\n",
    "discount_rate1 = 0.05  # 5% discount for purchases between 100 and 499.99\n",
    "discount_rate2 = 0.1   # 10% discount for purchases between 500 and 999.99\n",
    "discount_rate3 = 0.15  # 15% discount for purchases of 1000 or more\n",
    "\n",
    "if purchase_amount >= 100 and purchase_amount < 500:\n",
    "    discount = discount_rate1 * purchase_amount\n",
    "elif purchase_amount >= 500 and purchase_amount < 1000:\n",
    "    discount = discount_rate2 * purchase_amount\n",
    "elif purchase_amount >= 1000:\n",
    "    discount = discount_rate3 * purchase_amount\n",
    "else:\n",
    "    discount = 0  # No discount for purchases below 00\n",
    "\n",
    "discounted_price = purchase_amount - discount\n",
    "\n",
    "print(f\"Original Price: {purchase_amount:.2f}\")\n",
    "print(f\"Discount Applied: {discount:.2f}\")\n",
    "print(f\"Discounted Price: {discounted_price:.2f}\")\n"
   ]
  },
  {
   "cell_type": "markdown",
   "metadata": {},
   "source": [
    "Q27) Develop a program to calculate the electricity bill based on different consumption slabs using elif statements."
   ]
  },
  {
   "cell_type": "code",
   "execution_count": 7,
   "metadata": {},
   "outputs": [
    {
     "name": "stdout",
     "output_type": "stream",
     "text": [
      "Electricity Consumption: 50.0 kWh\n",
      "Electricity Bill: $6.00\n"
     ]
    }
   ],
   "source": [
    "consumption = float(input(\"Enter the electricity consumption in kWh: \"))\n",
    "\n",
    "rate_slab1 = 0.12  # Rate for the first 100 kWh\n",
    "rate_slab2 = 0.15  # Rate for the next 200 kWh\n",
    "rate_slab3 = 0.20  # Rate for consumption above 300 kWh\n",
    "\n",
    "bill_amount = 0\n",
    "\n",
    "if consumption <= 100:\n",
    "    bill_amount = consumption * rate_slab1\n",
    "elif consumption <= 300:\n",
    "    bill_amount = 100 * rate_slab1 + (consumption - 100) * rate_slab2\n",
    "else:\n",
    "    bill_amount = 100 * rate_slab1 + 200 * rate_slab2 + (consumption - 300) * rate_slab3\n",
    "\n",
    "\n",
    "print(f\"Electricity Consumption: {consumption} kWh\")\n",
    "print(f\"Electricity Bill: ${bill_amount:.2f}\")\n"
   ]
  },
  {
   "cell_type": "markdown",
   "metadata": {},
   "source": [
    "Q28) Create a program to determine the type of quadrilateral based on its angles and sides using elif statements."
   ]
  },
  {
   "cell_type": "code",
   "execution_count": 8,
   "metadata": {},
   "outputs": [
    {
     "name": "stdout",
     "output_type": "stream",
     "text": [
      "This is a general quadrilateral.\n"
     ]
    }
   ],
   "source": [
    "\n",
    "side1 = int(input(\"Enter the length of side 1: \"))\n",
    "side2 = int(input(\"Enter the length of side 2: \"))\n",
    "side3 = int(input(\"Enter the length of side 3: \"))\n",
    "side4 = int(input(\"Enter the length of side 4: \"))\n",
    "\n",
    "\n",
    "angle1 = int(input(\"Enter the measure of angle 1 : \"))\n",
    "angle2 = int(input(\"Enter the measure of angle 2 : \"))\n",
    "angle3 = int(input(\"Enter the measure of angle 3 : \"))\n",
    "angle4 = int(input(\"Enter the measure of angle 4 : \"))\n",
    "\n",
    "if side1 == side3 and side2 ==side4 and angle1 == angle2 == angle3 == angle4 == 90:\n",
    "    print(\"This is a rectangle.\")\n",
    "elif side1 == side2 == side3 == side4 and angle1 == angle2 == angle3 == angle4 == 90:\n",
    "    print(\"This is a square.\")\n",
    "elif side1 == side3 and side2 == side4 and angle1 == angle3 and angle2 == angle4:\n",
    "    print(\"This is a parallelogram.\")\n",
    "elif side1 == side3 and side2 == side4 and angle1 + angle3 == 180 and angle2 + angle4 == 180:\n",
    "    print(\"This is a rhombus.\")\n",
    "else:\n",
    "    print(\"This is a general quadrilateral.\")\n"
   ]
  },
  {
   "cell_type": "markdown",
   "metadata": {},
   "source": [
    "Q29) Write a Python script to determine the season based on a user-provided month using elif statements."
   ]
  },
  {
   "cell_type": "code",
   "execution_count": 9,
   "metadata": {},
   "outputs": [
    {
     "name": "stdout",
     "output_type": "stream",
     "text": [
      "The season for july is Rainy.\n"
     ]
    }
   ],
   "source": [
    "month = input(\"Enter a month : \")\n",
    "\n",
    "month = month.lower()\n",
    "\n",
    "if month in [\"december\", \"january\", \"february\"]:\n",
    "    season = \"Winter\"\n",
    "elif month in [\"march\", \"april\", \"may\"]:\n",
    "    season = \"Summer\"\n",
    "elif month in [\"june\", \"july\", \"august\"]:\n",
    "    season = \"Rainy\"\n",
    "elif month in [\"september\", \"october\", \"november\"]:\n",
    "    season = \"Spring\"\n",
    "else:\n",
    "    season = \"Unknown\"\n",
    "\n",
    "if season != \"Unknown\":\n",
    "    print(f\"The season for {month} is {season}.\")\n",
    "else:\n",
    "    print(\"Invalid input. Please enter a valid month.\")\n"
   ]
  },
  {
   "cell_type": "markdown",
   "metadata": {},
   "source": [
    "Q30) Implement a program to determine the type of a year (leap or common) and month (30 or 31 days) using elif statements."
   ]
  },
  {
   "cell_type": "code",
   "execution_count": 11,
   "metadata": {},
   "outputs": [
    {
     "name": "stdout",
     "output_type": "stream",
     "text": [
      "The year 2008 is a Leap year.\n",
      "Month 2 has 29 days.\n"
     ]
    }
   ],
   "source": [
    "\n",
    "year = int(input(\"Enter a year:\"))\n",
    "if (year % 4 == 0 and year % 100 != 0) or (year % 400 == 0):\n",
    "    year_type = \"Leap\"\n",
    "else:\n",
    "    year_type = \"Common\"\n",
    "\n",
    "month_num = int(input(\"Enter a month number :\"))\n",
    "if month_num == 2:\n",
    "    if year_type == \"Leap\":\n",
    "        days_in_month = 29\n",
    "    else:\n",
    "        days_in_month = 28\n",
    "elif month_num in [4, 6, 9, 11]:\n",
    "    days_in_month = 30\n",
    "else:\n",
    "    days_in_month = 31\n",
    "\n",
    "print(f\"The year {year} is a {year_type} year.\")\n",
    "print(f\"Month {month_num} has {days_in_month} days.\")\n"
   ]
  },
  {
   "cell_type": "markdown",
   "metadata": {},
   "source": [
    "Basic Level:"
   ]
  },
  {
   "cell_type": "markdown",
   "metadata": {},
   "source": [
    "Q1) Write a Python program that checks if a given number is positive, negative, or zero."
   ]
  },
  {
   "cell_type": "code",
   "execution_count": 12,
   "metadata": {},
   "outputs": [
    {
     "name": "stdout",
     "output_type": "stream",
     "text": [
      "The number is negative.\n"
     ]
    }
   ],
   "source": [
    "\n",
    "number = int(input(\"Enter a number: \"))\n",
    "\n",
    "if number > 0:\n",
    "    print(\"The number is positive.\")\n",
    "elif number < 0:\n",
    "    print(\"The number is negative.\")\n",
    "else:\n",
    "    print(\"The number is zero.\")\n"
   ]
  },
  {
   "cell_type": "markdown",
   "metadata": {},
   "source": [
    "Q2) Create a program to determine if a person is eligible to vote based on their age."
   ]
  },
  {
   "cell_type": "code",
   "execution_count": 13,
   "metadata": {},
   "outputs": [
    {
     "name": "stdout",
     "output_type": "stream",
     "text": [
      "Entered age : 17\n",
      "Your under age. you can not vote\n"
     ]
    }
   ],
   "source": [
    "input_age = int(input(\"Enter your age\"))\n",
    "print(\"Entered age :\",input_age)\n",
    "\n",
    "if input_age > 18:\n",
    "    print(\"Your eligible, You can vote\")\n",
    "else:\n",
    "    print(\"Your under age. you can not vote\")"
   ]
  },
  {
   "cell_type": "markdown",
   "metadata": {},
   "source": [
    "Q3) Write a program to find the maximum of two given numbers using conditional statements."
   ]
  },
  {
   "cell_type": "code",
   "execution_count": 14,
   "metadata": {},
   "outputs": [
    {
     "name": "stdout",
     "output_type": "stream",
     "text": [
      "maximum number is: [1000]\n"
     ]
    }
   ],
   "source": [
    "a=1000;b=300\n",
    "x=[a if a>b else b]\n",
    "print(\"maximum number is:\",x)\n"
   ]
  },
  {
   "cell_type": "markdown",
   "metadata": {},
   "source": [
    "Q4) Develop a program that calculates the grade of a student based on their exam score."
   ]
  },
  {
   "cell_type": "code",
   "execution_count": 15,
   "metadata": {},
   "outputs": [
    {
     "name": "stdout",
     "output_type": "stream",
     "text": [
      "Entered score 60\n",
      "pass your grade is C\n"
     ]
    }
   ],
   "source": [
    "score = int(input(\"Enter your score\"))\n",
    "print(\"Entered score\",score)\n",
    "\n",
    "if score >=90:\n",
    "    print(\"excellent performance your grade is A+\")\n",
    "elif score >= 80:\n",
    "    print(\"very good performance your grade is A\")\n",
    "elif score >= 70:\n",
    "    print(\"good performance your grade is B\")\n",
    "elif score >= 35:\n",
    "    print(\"pass your grade is C\")\n",
    "else:\n",
    "    print(\"your falied\")"
   ]
  },
  {
   "cell_type": "markdown",
   "metadata": {},
   "source": [
    "Q5) Create a program that checks if a year is a leap year or not."
   ]
  },
  {
   "cell_type": "code",
   "execution_count": 16,
   "metadata": {},
   "outputs": [
    {
     "name": "stdout",
     "output_type": "stream",
     "text": [
      "Its not a leap year\n"
     ]
    }
   ],
   "source": [
    "year = 2010\n",
    "\n",
    "if(year % 400 == 0) and (year % 100 == 0):\n",
    "    print (\"Its leap year\")\n",
    "elif (year %4 == 0) and (year %100 != 0):\n",
    "    print(\"Its a leap year\")\n",
    "else:\n",
    "    print(\"Its not a leap year\")"
   ]
  },
  {
   "cell_type": "markdown",
   "metadata": {},
   "source": [
    "Q6) Write a program to classify a triangle based on its sides' lengths."
   ]
  },
  {
   "cell_type": "code",
   "execution_count": 18,
   "metadata": {},
   "outputs": [
    {
     "name": "stdout",
     "output_type": "stream",
     "text": [
      "It's an equilateral triangle.\n"
     ]
    }
   ],
   "source": [
    "\n",
    "side1 = float(input(\"Enter the length of the first side: \"))\n",
    "side2 = float(input(\"Enter the length of the second side: \"))\n",
    "side3 = float(input(\"Enter the length of the third side: \"))\n",
    "\n",
    "\n",
    "if side1 + side2 > side3 and side1 + side3 > side2 and side2 + side3 > side1:\n",
    "    # Check for equilateral triangle (all sides are equal)\n",
    "    if side1 == side2 == side3:\n",
    "        print(\"It's an equilateral triangle.\")\n",
    "    # Check for isosceles triangle (two sides are equal)\n",
    "    elif side1 == side2 or side1 == side3 or side2 == side3:\n",
    "        print(\"It's an isosceles triangle.\")\n",
    "    # If none of the above conditions are met, it's scalene\n",
    "    else:\n",
    "        print(\"It's a scalene triangle.\")\n",
    "else:\n",
    "    print(\"Invalid input. The given sides do not form a triangle.\")\n"
   ]
  },
  {
   "cell_type": "markdown",
   "metadata": {},
   "source": [
    "Q7) Build a program that determines the largest of three given numbers."
   ]
  },
  {
   "cell_type": "code",
   "execution_count": 21,
   "metadata": {},
   "outputs": [
    {
     "name": "stdout",
     "output_type": "stream",
     "text": [
      "The largest number is 50\n"
     ]
    }
   ],
   "source": [
    "num1 = 10\n",
    "num2 = 20\n",
    "num3 = 50\n",
    "\n",
    "if (num1 >= num2) and (num1 >= num3):\n",
    "   largest = num1\n",
    "elif (num2 >= num1) and (num2 >= num3):\n",
    "   largest = num2\n",
    "else:\n",
    "   largest = num3\n",
    "\n",
    "print(\"The largest number is\", largest)"
   ]
  },
  {
   "cell_type": "markdown",
   "metadata": {},
   "source": [
    "Q8) Develop a program that checks whether a character is a vowel or a consonant."
   ]
  },
  {
   "cell_type": "code",
   "execution_count": 2,
   "metadata": {},
   "outputs": [
    {
     "name": "stdout",
     "output_type": "stream",
     "text": [
      "Entered character : A\n",
      "The character is vowel\n"
     ]
    }
   ],
   "source": [
    "user_input = str(input(\"Enter the character to check\"))\n",
    "print(\"Entered character :\",user_input)\n",
    "input1 = user_input.lower()\n",
    "for i in input1:\n",
    "    if(i == 'a' or i == 'e' or i == 'i' or i == 'o' or i == 'u'):\n",
    "        print(\"The character is vowel\")\n",
    "    else:\n",
    "        print(\"The character is consonant\")"
   ]
  },
  {
   "cell_type": "markdown",
   "metadata": {},
   "source": [
    "Q9) Create a program to calculate the total cost of a shopping cart based on discounts."
   ]
  },
  {
   "cell_type": "code",
   "execution_count": 4,
   "metadata": {},
   "outputs": [
    {
     "name": "stdout",
     "output_type": "stream",
     "text": [
      "Total cost before discount: $1150.00\n",
      "Discount applied: $172.50\n",
      "Final total cost: $977.50\n"
     ]
    }
   ],
   "source": [
    "items = {\n",
    "    \"item1\": 10.0,\n",
    "    \"item2\": 20.0,\n",
    "    \"item3\": 30.0,\n",
    "}\n",
    "\n",
    "discount_thresholds = [50.0, 100.0, 200.0]\n",
    "discount_rates = [0.05, 0.1, 0.15, 0.2]\n",
    "\n",
    "cart = {}\n",
    "for item, price in items.items():\n",
    "    quantity = int(input(f\"Enter the quantity of {item}: \"))\n",
    "    cart[item] = {\"price\": price, \"quantity\": quantity}\n",
    "\n",
    "total_cost = sum(item_data[\"price\"] * item_data[\"quantity\"] for item_data in cart.values())\n",
    "\n",
    "discount = 0\n",
    "for i, threshold in enumerate(discount_thresholds):\n",
    "    if total_cost >= threshold:\n",
    "        discount = total_cost * discount_rates[i]\n",
    "\n",
    "final_total_cost = total_cost - discount\n",
    "\n",
    "print(f\"Total cost before discount: ${total_cost:.2f}\")\n",
    "print(f\"Discount applied: ${discount:.2f}\")\n",
    "print(f\"Final total cost: ${final_total_cost:.2f}\")\n"
   ]
  },
  {
   "cell_type": "markdown",
   "metadata": {},
   "source": [
    "Q10) Write a program that checks if a given number is even or odd."
   ]
  },
  {
   "cell_type": "code",
   "execution_count": 5,
   "metadata": {},
   "outputs": [
    {
     "name": "stdout",
     "output_type": "stream",
     "text": [
      "Entered number 10\n",
      "Entered number is even\n"
     ]
    }
   ],
   "source": [
    "user_input = int(input(\"Enter your number\"))\n",
    "print(\"Entered number\",user_input)\n",
    "\n",
    "if (user_input%2) == 0:\n",
    "    print(\"Entered number is even\")\n",
    "else:\n",
    "    print(\"Entered number is odd\")"
   ]
  },
  {
   "cell_type": "markdown",
   "metadata": {},
   "source": [
    "Intermediate Level:"
   ]
  },
  {
   "cell_type": "markdown",
   "metadata": {},
   "source": [
    "Q11) Write a program that calculates the roots of a quadratic equation ."
   ]
  },
  {
   "cell_type": "code",
   "execution_count": 6,
   "metadata": {},
   "outputs": [
    {
     "name": "stdout",
     "output_type": "stream",
     "text": [
      "The roots are complex: -0.75 + 1.1989578808281798i and -0.75 - 1.1989578808281798i\n"
     ]
    }
   ],
   "source": [
    "import math\n",
    "\n",
    "a = float(input(\"Enter the coefficient a: \"))\n",
    "b = float(input(\"Enter the coefficient b: \"))\n",
    "c = float(input(\"Enter the coefficient c: \"))\n",
    "\n",
    "discriminant = b**2 - 4*a*c\n",
    "\n",
    "if discriminant > 0:\n",
    "    # Two real and distinct roots\n",
    "    root1 = (-b + math.sqrt(discriminant)) / (2*a)\n",
    "    root2 = (-b - math.sqrt(discriminant)) / (2*a)\n",
    "    print(f\"The roots are real and distinct: {root1} and {root2}\")\n",
    "elif discriminant == 0:\n",
    "    # One real root (repeated)\n",
    "    root = -b / (2*a)\n",
    "    print(f\"The root is real and repeated: {root}\")\n",
    "else:\n",
    "    # Complex roots\n",
    "    real_part = -b / (2*a)\n",
    "    imaginary_part = math.sqrt(abs(discriminant)) / (2*a)\n",
    "    print(f\"The roots are complex: {real_part} + {imaginary_part}i and {real_part} - {imaginary_part}i\")\n"
   ]
  },
  {
   "cell_type": "markdown",
   "metadata": {},
   "source": [
    "Q12) Create a program that determines the day of the week based on the day number (1-7)."
   ]
  },
  {
   "cell_type": "code",
   "execution_count": 7,
   "metadata": {},
   "outputs": [
    {
     "name": "stdout",
     "output_type": "stream",
     "text": [
      "Day number 6 corresponds to Friday.\n"
     ]
    }
   ],
   "source": [
    "day_number = int(input(\"Enter a day number: \"))\n",
    "\n",
    "if day_number == 1:\n",
    "    day = \"Sunday\"\n",
    "elif day_number == 2:\n",
    "    day = \"Monday\"\n",
    "elif day_number == 3:\n",
    "    day = \"Tuesday\"\n",
    "elif day_number == 4:\n",
    "    day = \"Wednesday\"\n",
    "elif day_number == 5:\n",
    "    day = \"Thursday\"\n",
    "elif day_number == 6:\n",
    "    day = \"Friday\"\n",
    "elif day_number == 7:\n",
    "    day = \"Saturday\"\n",
    "else:\n",
    "    day = \"Invalid\"\n",
    "\n",
    "if day != \"Invalid\":\n",
    "    print(f\"Day number {day_number} corresponds to {day}.\")\n",
    "else:\n",
    "    print(\"Invalid input. Please enter a day number between 1 and 7.\")\n"
   ]
  },
  {
   "cell_type": "markdown",
   "metadata": {},
   "source": [
    "Q13) Develop a program that calculates the factorial of a given number using recursion."
   ]
  },
  {
   "cell_type": "code",
   "execution_count": 9,
   "metadata": {},
   "outputs": [
    {
     "name": "stdout",
     "output_type": "stream",
     "text": [
      "The factorial of 5 is 120.\n"
     ]
    }
   ],
   "source": [
    "def factorial(n):\n",
    "    if n == 0:\n",
    "        return 1  \n",
    "    else:\n",
    "        return n * factorial(n - 1)\n",
    "\n",
    "num = int(input(\"Enter a non-negative integer: \"))\n",
    "\n",
    "if num < 0:\n",
    "    print(\"Factorial is not defined for negative numbers.\")\n",
    "else:\n",
    "    result = factorial(num)\n",
    "    print(f\"The factorial of {num} is {result}.\")\n"
   ]
  },
  {
   "cell_type": "markdown",
   "metadata": {},
   "source": [
    "Q14) Write a program to find the largest among three numbers without using the `max()` function."
   ]
  },
  {
   "cell_type": "code",
   "execution_count": 10,
   "metadata": {},
   "outputs": [
    {
     "name": "stdout",
     "output_type": "stream",
     "text": [
      "The largest number among 10, 40, and 150 is 150.\n"
     ]
    }
   ],
   "source": [
    "\n",
    "num1 = int(input(\"Enter the first number: \"))\n",
    "num2 = int(input(\"Enter the second number: \"))\n",
    "num3 = int(input(\"Enter the third number: \"))\n",
    "\n",
    "\n",
    "if num1 >= num2 and num1 >= num3:\n",
    "    largest = num1\n",
    "elif num2 >= num1 and num2 >= num3:\n",
    "    largest = num2\n",
    "else:\n",
    "    largest = num3\n",
    "\n",
    "# Print the largest number\n",
    "print(f\"The largest number among {num1}, {num2}, and {num3} is {largest}.\")\n"
   ]
  },
  {
   "cell_type": "markdown",
   "metadata": {},
   "source": [
    "Q15) Create a program that simulates a basic ATM transaction menu."
   ]
  },
  {
   "cell_type": "code",
   "execution_count": 1,
   "metadata": {},
   "outputs": [
    {
     "name": "stdout",
     "output_type": "stream",
     "text": [
      "\n",
      "ATM Menu:\n",
      "1. Check Balance\n",
      "2. Deposit Money\n",
      "3. Withdraw Money\n",
      "4. Exit\n",
      "Invalid choice. Please select a valid option.\n",
      "\n",
      "ATM Menu:\n",
      "1. Check Balance\n",
      "2. Deposit Money\n",
      "3. Withdraw Money\n",
      "4. Exit\n",
      "Your account balance is $1000.00\n",
      "\n",
      "ATM Menu:\n",
      "1. Check Balance\n",
      "2. Deposit Money\n",
      "3. Withdraw Money\n",
      "4. Exit\n",
      "$5000.00 has been deposited into your account.\n",
      "\n",
      "ATM Menu:\n",
      "1. Check Balance\n",
      "2. Deposit Money\n",
      "3. Withdraw Money\n",
      "4. Exit\n",
      "$1000.00 has been deposited into your account.\n",
      "\n",
      "ATM Menu:\n",
      "1. Check Balance\n",
      "2. Deposit Money\n",
      "3. Withdraw Money\n",
      "4. Exit\n",
      "$1000.00 has been withdrawn from your account.\n",
      "\n",
      "ATM Menu:\n",
      "1. Check Balance\n",
      "2. Deposit Money\n",
      "3. Withdraw Money\n",
      "4. Exit\n",
      "$60000.00 has been deposited into your account.\n",
      "\n",
      "ATM Menu:\n",
      "1. Check Balance\n",
      "2. Deposit Money\n",
      "3. Withdraw Money\n",
      "4. Exit\n",
      "$4000.00 has been withdrawn from your account.\n",
      "\n",
      "ATM Menu:\n",
      "1. Check Balance\n",
      "2. Deposit Money\n",
      "3. Withdraw Money\n",
      "4. Exit\n",
      "Thank you for using our ATM. Goodbye!\n"
     ]
    }
   ],
   "source": [
    "balance = 1000\n",
    "\n",
    "# Function to display account balance\n",
    "def display_balance():\n",
    "    print(f\"Your account balance is ${balance:.2f}\")\n",
    "\n",
    "# Function to deposit money\n",
    "def deposit():\n",
    "    global balance\n",
    "    amount = float(input(\"Enter the amount you want to deposit: $\"))\n",
    "    if amount > 0:\n",
    "        balance += amount\n",
    "        print(f\"${amount:.2f} has been deposited into your account.\")\n",
    "    else:\n",
    "        print(\"Invalid amount. Please enter a positive value.\")\n",
    "\n",
    "# Function to withdraw money\n",
    "def withdraw():\n",
    "    global balance\n",
    "    amount = float(input(\"Enter the amount you want to withdraw: $\"))\n",
    "    if amount > 0 and amount <= balance:\n",
    "        balance -= amount\n",
    "        print(f\"${amount:.2f} has been withdrawn from your account.\")\n",
    "    else:\n",
    "        print(\"Invalid amount or insufficient balance.\")\n",
    "\n",
    "# Main program loop\n",
    "while True:\n",
    "    print(\"\\nATM Menu:\")\n",
    "    print(\"1. Check Balance\")\n",
    "    print(\"2. Deposit Money\")\n",
    "    print(\"3. Withdraw Money\")\n",
    "    print(\"4. Exit\")\n",
    "\n",
    "    choice = input(\"Please select an option (1/2/3/4): \")\n",
    "\n",
    "    if choice == '1':\n",
    "        display_balance()\n",
    "    elif choice == '2':\n",
    "        deposit()\n",
    "    elif choice == '3':\n",
    "        withdraw()\n",
    "    elif choice == '4':\n",
    "        print(\"Thank you for using our ATM. Goodbye!\")\n",
    "        break\n",
    "    else:\n",
    "        print(\"Invalid choice. Please select a valid option.\")"
   ]
  },
  {
   "cell_type": "markdown",
   "metadata": {},
   "source": [
    "Q16) Build a program that checks if a given string is a palindrome or not."
   ]
  },
  {
   "cell_type": "code",
   "execution_count": 3,
   "metadata": {},
   "outputs": [
    {
     "name": "stdout",
     "output_type": "stream",
     "text": [
      "The given string is palindrome\n"
     ]
    }
   ],
   "source": [
    "input_string = (\"MALAYALAM\")\n",
    "input_string2 = input_string[::-1]\n",
    "\n",
    "if input_string == input_string2:\n",
    "    print(\"The given string is palindrome\")\n",
    "else:\n",
    "    print(\"The given string is not palindrome\")\n"
   ]
  },
  {
   "cell_type": "markdown",
   "metadata": {},
   "source": [
    "Q17) Write a program that calculates the average of a list of numbers, excluding the smallest and largest values."
   ]
  },
  {
   "cell_type": "code",
   "execution_count": 5,
   "metadata": {},
   "outputs": [
    {
     "name": "stdout",
     "output_type": "stream",
     "text": [
      "Average (excluding smallest and largest): 177.8\n"
     ]
    }
   ],
   "source": [
    "def calculate_average(numbers):\n",
    "    if len(numbers) <= 2:\n",
    "        return \"List should have at least 3 elements.\"\n",
    "\n",
    "    numbers.remove(min(numbers))\n",
    "    numbers.remove(max(numbers))\n",
    "\n",
    "    total = sum(numbers)\n",
    "\n",
    "    average = total / len(numbers)\n",
    "\n",
    "    return average\n",
    "\n",
    "numbers = [12, 145, 267, 323, 65, 89, 534]\n",
    "result = calculate_average(numbers)\n",
    "print(\"Average (excluding smallest and largest):\", result)\n"
   ]
  },
  {
   "cell_type": "markdown",
   "metadata": {},
   "source": [
    "Q18) Develop a program that converts a given temperature from Celsius to Fahrenheit."
   ]
  },
  {
   "cell_type": "code",
   "execution_count": 7,
   "metadata": {},
   "outputs": [
    {
     "name": "stdout",
     "output_type": "stream",
     "text": [
      "Entered celsius 32.0\n",
      "Temperature in Fahrenheit is :57.600000\n",
      "\n"
     ]
    }
   ],
   "source": [
    "Celsius = float(input('Enter the Temperature in celsius'))\n",
    "print(\"Entered celsius\",Celsius)\n",
    "Fahrenheit = (Celsius * 9/5) \n",
    "print('Temperature in Fahrenheit is :%f\\n'%Fahrenheit)"
   ]
  },
  {
   "cell_type": "markdown",
   "metadata": {},
   "source": [
    "Q19) Create a program that simulates a basic calculator for addition, subtraction, multiplication, and division."
   ]
  },
  {
   "cell_type": "code",
   "execution_count": 2,
   "metadata": {},
   "outputs": [
    {
     "name": "stdout",
     "output_type": "stream",
     "text": [
      "The addition of given numbers 17\n"
     ]
    }
   ],
   "source": [
    "first = int(input(\"Enter your number 1:\"))\n",
    "second = int(input(\"Enter your number 2:\"))\n",
    "operator = input(\"Enter the operator:\")\n",
    "op = operator.lower()\n",
    "if op == \"add\":\n",
    "    print(\"The addition of given numbers\",first+second)\n",
    "elif op == \"sub\":\n",
    "    print(\"The substraction of given numbers\",first-second)\n",
    "elif op == \"multi\":\n",
    "    print(\"The multiplication of given numbers\",first*second)\n",
    "elif op == \"div\":\n",
    "    print(\"The division of given numbers\", first/second)\n",
    "else:\n",
    "    print(\"Invalid operator\")"
   ]
  },
  {
   "cell_type": "markdown",
   "metadata": {},
   "source": [
    "Q20) Write a program that determines the roots of a cubic equation using the Cardano formula."
   ]
  },
  {
   "cell_type": "code",
   "execution_count": 8,
   "metadata": {},
   "outputs": [
    {
     "name": "stdout",
     "output_type": "stream",
     "text": [
      "Root 1: (0.3956439237389603+0.805775395063554j)\n",
      "Root 2: (-1.2549282433379623-0.05397671659703707j)\n",
      "Root 3: (-1.140715680400998-0.7517986784665169j)\n"
     ]
    }
   ],
   "source": [
    "import math\n",
    "\n",
    "def cubic_roots(a, b, c, d):\n",
    "    if a == 0:\n",
    "        return \"Coefficient 'a' cannot be zero.\"\n",
    "\n",
    "    p = (3 * a * c - b**2) / (3 * a**2)\n",
    "    q = (2 * b**3 - 9 * a * b * c + 27 * a**2 * d) / (27 * a**3)\n",
    "\n",
    "    discriminant = (q**2 / 4) + (p**3 / 27)\n",
    "\n",
    "    if discriminant > 0:\n",
    "        u = (-q/2 + math.sqrt(discriminant))**(1/3)\n",
    "        v = (-q/2 - math.sqrt(discriminant))**(1/3)\n",
    "        real_root = u + v\n",
    "        imaginary_root = (u - v) * (3**0.5) / 2\n",
    "\n",
    "        root1 = real_root - b / (3 * a)\n",
    "        root2 = -0.5 * (real_root + imaginary_root) - b / (3 * a)\n",
    "        root3 = -0.5 * (real_root - imaginary_root) - b / (3 * a)\n",
    "    elif discriminant == 0:\n",
    "        if q < 0:\n",
    "            root1 = (3 * q / a - b) / (3 * a)\n",
    "            root2 = (-3 * q / (2 * a) - b / a)\n",
    "            root3 = root2\n",
    "        else:\n",
    "            u = (-q/2)**(1/3)\n",
    "            root1 = 2 * u - b / (3 * a)\n",
    "            root2 = -u - b / (3 * a)\n",
    "            root3 = root2\n",
    "    else:\n",
    "        rho = math.sqrt((-p**3)/27)\n",
    "        theta = math.acos(-q / (2 * rho))\n",
    "        root1 = 2 * math.sqrt(rho) * math.cos(theta/3) - b / (3 * a)\n",
    "        root2 = 2 * math.sqrt(rho) * math.cos((theta + 2 * math.pi) / 3) - b / (3 * a)\n",
    "        root3 = 2 * math.sqrt(rho) * math.cos((theta + 4 * math.pi) / 3) - b / (3 * a)\n",
    "\n",
    "    return root1, root2, root3\n",
    "\n",
    "a = float(input(\"Enter coefficient a: \"))\n",
    "b = float(input(\"Enter coefficient b: \"))\n",
    "c = float(input(\"Enter coefficient c: \"))\n",
    "d = float(input(\"Enter coefficient d: \"))\n",
    "\n",
    "roots = cubic_roots(a, b, c, d)\n",
    "\n",
    "print(\"Root 1:\", roots[0])\n",
    "print(\"Root 2:\", roots[1])\n",
    "print(\"Root 3:\", roots[2])\n"
   ]
  },
  {
   "cell_type": "markdown",
   "metadata": {},
   "source": [
    "Advanced Level:"
   ]
  },
  {
   "cell_type": "markdown",
   "metadata": {},
   "source": [
    "Q21) Create a program that calculates the income tax based on the user's income and tax brackets."
   ]
  },
  {
   "cell_type": "code",
   "execution_count": 3,
   "metadata": {},
   "outputs": [
    {
     "name": "stdout",
     "output_type": "stream",
     "text": [
      "Your income tax is: $1000.10\n"
     ]
    }
   ],
   "source": [
    "# Define tax brackets and rates\n",
    "tax_brackets = [(0, 10000, 0.10), (10001, 50000, 0.20), (50001, 100000, 0.30), (100001, float('inf'), 0.40)]\n",
    "\n",
    "# Function to calculate income tax\n",
    "def calculate_income_tax(income):\n",
    "    tax = 0\n",
    "    remaining_income = income\n",
    "\n",
    "    for bracket in tax_brackets:\n",
    "        min_income, max_income, tax_rate = bracket\n",
    "        if remaining_income <= 0:\n",
    "            break\n",
    "        if remaining_income <= max_income:\n",
    "            taxable_income = remaining_income - min_income + 1\n",
    "        else:\n",
    "            taxable_income = max_income - min_income + 1\n",
    "        tax += taxable_income * tax_rate\n",
    "        remaining_income -= taxable_income\n",
    "\n",
    "    return tax\n",
    "\n",
    "# Main program\n",
    "try:\n",
    "    income = float(input(\"Enter your annual income: \"))\n",
    "    if income < 0:\n",
    "        print(\"Income cannot be negative.\")\n",
    "    else:\n",
    "        tax = calculate_income_tax(income)\n",
    "        print(f\"Your income tax is: ${tax:.2f}\")\n",
    "except ValueError:\n",
    "    print(\"Invalid input. Please enter a valid income as a number.\")\n"
   ]
  },
  {
   "cell_type": "markdown",
   "metadata": {},
   "source": [
    "Q22) Write a program that simulates a rock-paper-scissors game against the computer."
   ]
  },
  {
   "cell_type": "code",
   "execution_count": 38,
   "metadata": {},
   "outputs": [
    {
     "name": "stdout",
     "output_type": "stream",
     "text": [
      "Welcome to Rock-Paper-Scissors!\n",
      "Invalid choice. Please choose rock, paper, or scissors.\n",
      "Invalid choice. Please choose rock, paper, or scissors.\n",
      "You chose rock.\n",
      "Computer chose paper.\n",
      "Computer wins!\n"
     ]
    }
   ],
   "source": [
    "import random\n",
    "\n",
    "def get_user_choice():\n",
    "    user_choice = input(\"Enter your choice (rock, paper, or scissors): \").lower()\n",
    "    while user_choice not in [\"rock\", \"paper\", \"scissors\"]:\n",
    "        print(\"Invalid choice. Please choose rock, paper, or scissors.\")\n",
    "        user_choice = input(\"Enter your choice (rock, paper, or scissors): \").lower()\n",
    "    return user_choice\n",
    "\n",
    "def get_computer_choice():\n",
    "    choices = [\"rock\", \"paper\", \"scissors\"]\n",
    "    computer_choice = random.choice(choices)\n",
    "    return computer_choice\n",
    "\n",
    "def determine_winner(user_choice, computer_choice):\n",
    "    if user_choice == computer_choice:\n",
    "        return \"It's a tie!\"\n",
    "    elif (\n",
    "        (user_choice == \"rock\" and computer_choice == \"scissors\") or\n",
    "        (user_choice == \"paper\" and computer_choice == \"rock\") or\n",
    "        (user_choice == \"scissors\" and computer_choice == \"paper\")\n",
    "    ):\n",
    "        return \"You win!\"\n",
    "    else:\n",
    "        return \"Computer wins!\"\n",
    "\n",
    "def main():\n",
    "    print(\"Welcome to Rock-Paper-Scissors!\")\n",
    "    \n",
    "    while True:\n",
    "        user_choice = get_user_choice()\n",
    "        computer_choice = get_computer_choice()\n",
    "        \n",
    "        print(f\"You chose {user_choice}.\")\n",
    "        print(f\"Computer chose {computer_choice}.\")\n",
    "        \n",
    "        result = determine_winner(user_choice, computer_choice)\n",
    "        print(result)\n",
    "        \n",
    "        play_again = input(\"Do you want to play again? (yes/no): \").lower()\n",
    "        if play_again != \"yes\":\n",
    "            break\n",
    "\n",
    "if __name__ == \"__main__\":\n",
    "    main()\n"
   ]
  },
  {
   "cell_type": "markdown",
   "metadata": {},
   "source": [
    "Q23) Develop a program that generates a random password based on user preferences (length, complexity)."
   ]
  },
  {
   "cell_type": "code",
   "execution_count": 7,
   "metadata": {},
   "outputs": [
    {
     "name": "stdout",
     "output_type": "stream",
     "text": [
      "Password Generator\n",
      "Generated Password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n"
     ]
    }
   ],
   "source": [
    "import random\n",
    "import string\n",
    "\n",
    "def generate_password(length, use_lowercase, use_uppercase, use_digits, use_special_chars):\n",
    "    characters = \"\"\n",
    "\n",
    "    if use_lowercase:\n",
    "        characters += string.ascii_lowercase\n",
    "    if use_uppercase:\n",
    "        characters += string.ascii_uppercase\n",
    "    if use_digits:\n",
    "        characters += string.digits\n",
    "    if use_special_chars:\n",
    "        characters += string.punctuation\n",
    "\n",
    "    if not characters:\n",
    "        print(\"Please select at least one character type.\")\n",
    "        return None\n",
    "\n",
    "    password = ''.join(random.choice(characters) for _ in range(length))\n",
    "    return password\n",
    "\n",
    "def main():\n",
    "    print(\"Password Generator\")\n",
    "\n",
    "    length = int(input(\"Enter the desired password length: \"))\n",
    "    use_lowercase = input(\"Include lowercase letters? (yes/no): \").lower() == \"yes\"\n",
    "    use_uppercase = input(\"Include uppercase letters? (yes/no): \").lower() == \"yes\"\n",
    "    use_digits = input(\"Include digits? (yes/no): \").lower() == \"yes\"\n",
    "    use_special_chars = input(\"Include special characters? (yes/no): \").lower() == \"yes\"\n",
    "\n",
    "    password = generate_password(length, use_lowercase, use_uppercase, use_digits, use_special_chars)\n",
    "\n",
    "    if password:\n",
    "        print(\"Generated Password:\", password)\n",
    "\n",
    "if __name__ == \"__main__\":\n",
    "    main()\n"
   ]
  },
  {
   "cell_type": "markdown",
   "metadata": {},
   "source": [
    "Q24) Create a program that implements a simple text-based adventure game with branching scenarios."
   ]
  },
  {
   "cell_type": "code",
   "execution_count": 8,
   "metadata": {},
   "outputs": [
    {
     "name": "stdout",
     "output_type": "stream",
     "text": [
      "Welcome to the Text-Based Adventure Game!\n",
      "You find yourself standing at a crossroads.\n",
      "What do you want to do?\n",
      "1. Go left\n",
      "2. Go right\n",
      "3. Quit\n",
      "You chose to go left.\n",
      "You encounter a friendly traveler who offers you a map.\n",
      "What do you do?\n",
      "1. Accept the map\n",
      "2. Decline the map\n",
      "You accept the map and continue your journey.\n",
      "You reach a beautiful waterfall.\n",
      "Congratulations, you win!\n"
     ]
    }
   ],
   "source": [
    "import time\n",
    "\n",
    "\n",
    "def print_slow(text):\n",
    "    for char in text:\n",
    "        print(char, end='', flush=True)\n",
    "        time.sleep(0.03)\n",
    "    print()\n",
    "\n",
    "def get_choice(options):\n",
    "    while True:\n",
    "        choice = input(\"Enter your choice: \").lower()\n",
    "        if choice in options:\n",
    "            return choice\n",
    "        else:\n",
    "            print(\"Invalid choice. Please try again.\")\n",
    "\n",
    "def main():\n",
    "    print_slow(\"Welcome to the Text-Based Adventure Game!\")\n",
    "    print_slow(\"You find yourself standing at a crossroads.\")\n",
    "    \n",
    "    while True:\n",
    "        print_slow(\"What do you want to do?\")\n",
    "        print(\"1. Go left\")\n",
    "        print(\"2. Go right\")\n",
    "        print(\"3. Quit\")\n",
    "        \n",
    "        choice = get_choice(['1', '2', '3'])\n",
    "        \n",
    "        if choice == '1':\n",
    "            print_slow(\"You chose to go left.\")\n",
    "            print_slow(\"You encounter a friendly traveler who offers you a map.\")\n",
    "            print_slow(\"What do you do?\")\n",
    "            print(\"1. Accept the map\")\n",
    "            print(\"2. Decline the map\")\n",
    "            \n",
    "            choice = get_choice(['1', '2'])\n",
    "            \n",
    "            if choice == '1':\n",
    "                print_slow(\"You accept the map and continue your journey.\")\n",
    "                print_slow(\"You reach a beautiful waterfall.\")\n",
    "                print_slow(\"Congratulations, you win!\")\n",
    "                break\n",
    "            elif choice == '2':\n",
    "                print_slow(\"You decline the map and continue without it.\")\n",
    "                print_slow(\"You get lost in the forest and cannot find your way out.\")\n",
    "                print_slow(\"Game over. You lose.\")\n",
    "                break\n",
    "        \n",
    "        elif choice == '2':\n",
    "            print_slow(\"You chose to go right.\")\n",
    "            print_slow(\"You stumble upon a treasure chest.\")\n",
    "            print_slow(\"What do you do?\")\n",
    "            print(\"1. Try to open the chest\")\n",
    "            print(\"2. Ignore the chest and keep walking\")\n",
    "            \n",
    "            choice = get_choice(['1', '2'])\n",
    "            \n",
    "            if choice == '1':\n",
    "                print_slow(\"You try to open the chest, but it's booby-trapped!\")\n",
    "                print_slow(\"Game over. You lose.\")\n",
    "                break\n",
    "            elif choice == '2':\n",
    "                print_slow(\"You decide to ignore the chest and continue your journey.\")\n",
    "                print_slow(\"You find a hidden passage that leads to a beautiful garden.\")\n",
    "                print_slow(\"Congratulations, you win!\")\n",
    "                break\n",
    "        \n",
    "        elif choice == '3':\n",
    "            print_slow(\"Thanks for playing!\")\n",
    "            break\n",
    "\n",
    "if __name__ == \"__main__\":\n",
    "    main()\n"
   ]
  },
  {
   "cell_type": "markdown",
   "metadata": {},
   "source": [
    "Q25) Build a program that solves a linear equation for x, considering different cases."
   ]
  },
  {
   "cell_type": "code",
   "execution_count": 9,
   "metadata": {},
   "outputs": [
    {
     "name": "stdout",
     "output_type": "stream",
     "text": [
      "The solution is x = -2.0\n"
     ]
    }
   ],
   "source": [
    "def solve_linear_equation(a, b):\n",
    "    if a == 0:\n",
    "        if b == 0:\n",
    "            return \"Infinite solutions (any x is a solution)\"\n",
    "        else:\n",
    "            return \"No solution (contradiction)\"\n",
    "    else:\n",
    "        x = -b / a\n",
    "        return f\"The solution is x = {x}\"\n",
    "\n",
    "# Input coefficients a and b from the user\n",
    "a = float(input(\"Enter the coefficient 'a': \"))\n",
    "b = float(input(\"Enter the coefficient 'b': \"))\n",
    "\n",
    "# Solve the linear equation and print the result\n",
    "result = solve_linear_equation(a, b)\n",
    "print(result)\n"
   ]
  },
  {
   "cell_type": "markdown",
   "metadata": {},
   "source": [
    "Q26) Write a program that simulates a basic quiz game with multiple-choice questions and scoring."
   ]
  },
  {
   "cell_type": "code",
   "execution_count": 10,
   "metadata": {},
   "outputs": [
    {
     "name": "stdout",
     "output_type": "stream",
     "text": [
      "What is the capital of France?\n",
      "1. Paris\n",
      "2. Berlin\n",
      "3. Madrid\n",
      "4. London\n",
      "Correct!\n",
      "\n",
      "Which planet is known as the Red Planet?\n",
      "1. Earth\n",
      "2. Mars\n",
      "3. Jupiter\n",
      "4. Venus\n",
      "Sorry, the correct answer was 2: Mars\n",
      "\n",
      "What is 2 + 2?\n",
      "1. 3\n",
      "2. 4\n",
      "3. 5\n",
      "4. 6\n",
      "Sorry, the correct answer was 2: 4\n",
      "\n",
      "Quiz completed!\n",
      "Your score: 1/3\n"
     ]
    }
   ],
   "source": [
    "class Question:\n",
    "    def __init__(self, text, choices, correct_choice):\n",
    "        self.text = text\n",
    "        self.choices = choices\n",
    "        self.correct_choice = correct_choice\n",
    "\n",
    "    def is_correct(self, choice):\n",
    "        return choice == self.correct_choice\n",
    "\n",
    "\n",
    "class Quiz:\n",
    "    def __init__(self):\n",
    "        self.questions = []\n",
    "        self.score = 0\n",
    "\n",
    "    def add_question(self, question):\n",
    "        self.questions.append(question)\n",
    "\n",
    "    def display_question(self, question):\n",
    "        print(question.text)\n",
    "        for i, choice in enumerate(question.choices, start=1):\n",
    "            print(f\"{i}. {choice}\")\n",
    "\n",
    "    def run(self):\n",
    "        for question in self.questions:\n",
    "            self.display_question(question)\n",
    "            user_choice = input(\"Enter the number of your answer: \")\n",
    "            try:\n",
    "                user_choice = int(user_choice)\n",
    "                if 1 <= user_choice <= len(question.choices):\n",
    "                    if question.is_correct(user_choice):\n",
    "                        print(\"Correct!\\n\")\n",
    "                        self.score += 1\n",
    "                    else:\n",
    "                        print(f\"Sorry, the correct answer was {question.correct_choice}: {question.choices[question.correct_choice - 1]}\\n\")\n",
    "                else:\n",
    "                    print(\"Invalid choice. Please enter a number between 1 and\", len(question.choices), \"\\n\")\n",
    "            except ValueError:\n",
    "                print(\"Invalid input. Please enter a number.\\n\")\n",
    "        print(\"Quiz completed!\")\n",
    "        print(f\"Your score: {self.score}/{len(self.questions)}\")\n",
    "\n",
    "\n",
    "if __name__ == \"__main__\":\n",
    "    # Create a quiz\n",
    "    quiz = Quiz()\n",
    "\n",
    "    # Add questions to the quiz (customize as needed)\n",
    "    question1 = Question(\"What is the capital of France?\", [\"Paris\", \"Berlin\", \"Madrid\", \"London\"], 1)\n",
    "    question2 = Question(\"Which planet is known as the Red Planet?\", [\"Earth\", \"Mars\", \"Jupiter\", \"Venus\"], 2)\n",
    "    question3 = Question(\"What is 2 + 2?\", [\"3\", \"4\", \"5\", \"6\"], 2)\n",
    "\n",
    "    quiz.add_question(question1)\n",
    "    quiz.add_question(question2)\n",
    "    quiz.add_question(question3)\n",
    "\n",
    "    # Run the quiz\n",
    "    quiz.run()\n"
   ]
  },
  {
   "cell_type": "markdown",
   "metadata": {},
   "source": [
    "Q27) Develop a program that determines whether a given year is a prime number or not."
   ]
  },
  {
   "cell_type": "code",
   "execution_count": 11,
   "metadata": {},
   "outputs": [
    {
     "name": "stdout",
     "output_type": "stream",
     "text": [
      "2001 is not a prime year.\n"
     ]
    }
   ],
   "source": [
    "def is_prime(year):\n",
    "    if year <= 1:\n",
    "        return False\n",
    "    elif year <= 3:\n",
    "        return True\n",
    "    elif year % 2 == 0 or year % 3 == 0:\n",
    "        return False\n",
    "    i = 5\n",
    "    while i * i <= year:\n",
    "        if year % i == 0 or year % (i + 2) == 0:\n",
    "            return False\n",
    "        i += 6\n",
    "    return True\n",
    "\n",
    "year = int(input(\"Enter a year: \"))\n",
    "\n",
    "if is_prime(year):\n",
    "    print(f\"{year} is a prime year.\")\n",
    "else:\n",
    "    print(f\"{year} is not a prime year.\")\n"
   ]
  },
  {
   "cell_type": "markdown",
   "metadata": {},
   "source": [
    "Q28) Create a program that sorts three numbers in ascending order using conditional statements."
   ]
  },
  {
   "cell_type": "code",
   "execution_count": 12,
   "metadata": {},
   "outputs": [
    {
     "name": "stdout",
     "output_type": "stream",
     "text": [
      "The numbers in ascending order are: (75.0, 774.0, 1007.0)\n"
     ]
    }
   ],
   "source": [
    "# Input three numbers from the user\n",
    "num1 = float(input(\"Enter the first number: \"))\n",
    "num2 = float(input(\"Enter the second number: \"))\n",
    "num3 = float(input(\"Enter the third number: \"))\n",
    "\n",
    "# Use conditional statements to sort the numbers\n",
    "if num1 <= num2 <= num3:\n",
    "    sorted_nums = (num1, num2, num3)\n",
    "elif num1 <= num3 <= num2:\n",
    "    sorted_nums = (num1, num3, num2)\n",
    "elif num2 <= num1 <= num3:\n",
    "    sorted_nums = (num2, num1, num3)\n",
    "elif num2 <= num3 <= num1:\n",
    "    sorted_nums = (num2, num3, num1)\n",
    "elif num3 <= num1 <= num2:\n",
    "    sorted_nums = (num3, num1, num2)\n",
    "else:\n",
    "    sorted_nums = (num3, num2, num1)\n",
    "\n",
    "# Display the sorted numbers\n",
    "print(\"The numbers in ascending order are:\", sorted_nums)\n"
   ]
  },
  {
   "cell_type": "markdown",
   "metadata": {},
   "source": [
    "Q29) Build a program that determines the roots of a quartic equation using numerical methods."
   ]
  },
  {
   "cell_type": "code",
   "execution_count": 17,
   "metadata": {},
   "outputs": [
    {
     "ename": "NameError",
     "evalue": "name 'c' is not defined",
     "output_type": "error",
     "traceback": [
      "\u001b[1;31m---------------------------------------------------------------------------\u001b[0m",
      "\u001b[1;31mNameError\u001b[0m                                 Traceback (most recent call last)",
      "Cell \u001b[1;32mIn[17], line 5\u001b[0m\n\u001b[0;32m      3\u001b[0m \u001b[39m# Define the variables and the quartic equation\u001b[39;00m\n\u001b[0;32m      4\u001b[0m x \u001b[39m=\u001b[39m sp\u001b[39m.\u001b[39msymbols(\u001b[39m'\u001b[39m\u001b[39mx\u001b[39m\u001b[39m'\u001b[39m)\n\u001b[1;32m----> 5\u001b[0m equation \u001b[39m=\u001b[39m a\u001b[39m*\u001b[39mx\u001b[39m*\u001b[39m\u001b[39m*\u001b[39m\u001b[39m4\u001b[39m \u001b[39m+\u001b[39m b\u001b[39m*\u001b[39mx\u001b[39m*\u001b[39m\u001b[39m*\u001b[39m\u001b[39m3\u001b[39m \u001b[39m+\u001b[39m c\u001b[39m*\u001b[39mx\u001b[39m*\u001b[39m\u001b[39m*\u001b[39m\u001b[39m2\u001b[39m \u001b[39m+\u001b[39m d\u001b[39m*\u001b[39mx \u001b[39m+\u001b[39m e\n\u001b[0;32m      7\u001b[0m \u001b[39m# Define the coefficients a, b, c, d, and e\u001b[39;00m\n\u001b[0;32m      8\u001b[0m a \u001b[39m=\u001b[39m \u001b[39m1\u001b[39m\n",
      "\u001b[1;31mNameError\u001b[0m: name 'c' is not defined"
     ]
    }
   ],
   "source": [
    "import sympy as sp\n",
    "\n",
    "# Define the variables and the quartic equation\n",
    "x = sp.symbols('x')\n",
    "equation = a*x**4 + b*x**3 + c*x**2 + d*x + e\n",
    "\n",
    "# Define the coefficients a, b, c, d, and e\n",
    "a = 1\n",
    "b = -6\n",
    "c = 11\n",
    "d = -6\n",
    "e = 1\n",
    "\n",
    "# Initial guess for the root\n",
    "x0 = 0.0\n",
    "\n",
    "# Maximum number of iterations and tolerance\n",
    "max_iterations = 1000\n",
    "tolerance = 1e-6\n",
    "\n",
    "# Perform the Newton-Raphson iteration\n",
    "for i in range(max_iterations):\n",
    "    f = equation.subs(x, x0)\n",
    "    f_prime = sp.diff(equation, x).subs(x, x0)\n",
    "    \n",
    "    x1 = x0 - f / f_prime\n",
    "    \n",
    "    if abs(x1 - x0) < tolerance:\n",
    "        break\n",
    "    \n",
    "    x0 = x1\n",
    "\n",
    "# Check if a root has been found within the tolerance\n",
    "if i < max_iterations:\n",
    "    root = x1\n",
    "    print(f\"Root found: x = {root}\")\n",
    "else:\n",
    "    print(\"Root not found within the maximum number of iterations.\")\n",
    "\n"
   ]
  },
  {
   "cell_type": "markdown",
   "metadata": {},
   "source": [
    "Q30) Write a program that calculates the BMI (Body Mass Index) and provides health recommendations based\n",
    "on the user's input."
   ]
  },
  {
   "cell_type": "code",
   "execution_count": 19,
   "metadata": {},
   "outputs": [
    {
     "name": "stdout",
     "output_type": "stream",
     "text": [
      "BMI Calculator\n",
      "Your BMI is 19.17, which is categorized as 'Normal Weight'.\n",
      "Recommendation: Maintain a balanced diet and regular exercise to stay healthy.\n"
     ]
    }
   ],
   "source": [
    "def calculate_bmi(weight_kg, height_m):\n",
    "    bmi = weight_kg / (height_m ** 2)\n",
    "    return bmi\n",
    "\n",
    "def interpret_bmi(bmi):\n",
    "    if bmi < 18.5:\n",
    "        return \"Underweight\"\n",
    "    elif 18.5 <= bmi < 24.9:\n",
    "        return \"Normal Weight\"\n",
    "    elif 25 <= bmi < 29.9:\n",
    "        return \"Overweight\"\n",
    "    else:\n",
    "        return \"Obese\"\n",
    "\n",
    "def main():\n",
    "    print(\"BMI Calculator\")\n",
    "    weight_kg = float(input(\"Enter your weight in kilograms: \"))\n",
    "    height_m = float(input(\"Enter your height in meters: \"))\n",
    "\n",
    "    bmi = calculate_bmi(weight_kg, height_m)\n",
    "    bmi_category = interpret_bmi(bmi)\n",
    "\n",
    "    print(f\"Your BMI is {bmi:.2f}, which is categorized as '{bmi_category}'.\")\n",
    "\n",
    "    if bmi_category == \"Underweight\":\n",
    "        print(\"Recommendation: You may want to consult a healthcare provider or nutritionist to discuss a healthy weight gain plan.\")\n",
    "    elif bmi_category == \"Normal Weight\":\n",
    "        print(\"Recommendation: Maintain a balanced diet and regular exercise to stay healthy.\")\n",
    "    elif bmi_category == \"Overweight\":\n",
    "        print(\"Recommendation: Consider adopting a healthier diet and increasing physical activity to reach a healthier weight.\")\n",
    "    else:\n",
    "        print(\"Recommendation: It's important to consult a healthcare provider or nutritionist to discuss weight management and lifestyle changes.\")\n",
    "\n",
    "if __name__ == \"__main__\":\n",
    "    main()\n"
   ]
  },
  {
   "cell_type": "markdown",
   "metadata": {},
   "source": [
    "Challenge Level:"
   ]
  },
  {
   "cell_type": "markdown",
   "metadata": {},
   "source": [
    "Q31) Create a program that validates a password based on complexity rules (length, characters, etc.)."
   ]
  },
  {
   "cell_type": "code",
   "execution_count": 20,
   "metadata": {},
   "outputs": [
    {
     "name": "stdout",
     "output_type": "stream",
     "text": [
      "Password is invalid. Please make sure it meets the complexity rules.\n"
     ]
    }
   ],
   "source": [
    "import re\n",
    "\n",
    "def is_valid_password(password):\n",
    "    # Minimum length should be 8 characters\n",
    "    if len(password) < 8:\n",
    "        return False\n",
    "\n",
    "    # At least one uppercase letter\n",
    "    if not any(char.isupper() for char in password):\n",
    "        return False\n",
    "\n",
    "    # At least one lowercase letter\n",
    "    if not any(char.islower() for char in password):\n",
    "        return False\n",
    "\n",
    "    # At least one digit\n",
    "    if not any(char.isdigit() for char in password):\n",
    "        return False\n",
    "\n",
    "    # At least one special character (e.g., !@#$%^&*)\n",
    "    if not re.search(r'[!@#$%^&*]', password):\n",
    "        return False\n",
    "\n",
    "    # Password meets all criteria\n",
    "    return True\n",
    "\n",
    "# Test the password validation function\n",
    "password = input(\"Enter a password: \")\n",
    "\n",
    "if is_valid_password(password):\n",
    "    print(\"Password is valid.\")\n",
    "else:\n",
    "    print(\"Password is invalid. Please make sure it meets the complexity rules.\")\n"
   ]
  },
  {
   "cell_type": "markdown",
   "metadata": {},
   "source": [
    "Q32) Develop a program that performs matrix addition and subtraction based on user input."
   ]
  },
  {
   "cell_type": "code",
   "execution_count": 21,
   "metadata": {},
   "outputs": [
    {
     "name": "stdout",
     "output_type": "stream",
     "text": [
      "Enter 3x3 matrix:\n",
      "Enter 3x3 matrix:\n",
      "\n",
      "Matrix 1:\n",
      "1.0 2.0 3.0\n",
      "4.0 5.0 6.0\n",
      "7.0 8.0 9.0\n",
      "\n",
      "Matrix 2:\n",
      "9.0 8.0 7.0\n",
      "6.0 5.0 4.0\n",
      "3.0 2.0 1.0\n",
      "\n",
      "Matrix Addition Result:\n",
      "10.0 10.0 10.0\n",
      "10.0 10.0 10.0\n",
      "10.0 10.0 10.0\n",
      "\n",
      "Matrix Subtraction Result:\n",
      "-8.0 -6.0 -4.0\n",
      "-2.0 0.0 2.0\n",
      "4.0 6.0 8.0\n"
     ]
    }
   ],
   "source": [
    "def input_matrix(rows, cols):\n",
    "    matrix = []\n",
    "    print(f\"Enter {rows}x{cols} matrix:\")\n",
    "    for i in range(rows):\n",
    "        row = []\n",
    "        for j in range(cols):\n",
    "            element = float(input(f\"Enter element at position ({i+1},{j+1}): \"))\n",
    "            row.append(element)\n",
    "        matrix.append(row)\n",
    "    return matrix\n",
    "\n",
    "def add_matrices(matrix1, matrix2):\n",
    "    result = []\n",
    "    for i in range(len(matrix1)):\n",
    "        row = []\n",
    "        for j in range(len(matrix1[0])):\n",
    "            row.append(matrix1[i][j] + matrix2[i][j])\n",
    "        result.append(row)\n",
    "    return result\n",
    "\n",
    "def subtract_matrices(matrix1, matrix2):\n",
    "    result = []\n",
    "    for i in range(len(matrix1)):\n",
    "        row = []\n",
    "        for j in range(len(matrix1[0])):\n",
    "            row.append(matrix1[i][j] - matrix2[i][j])\n",
    "        result.append(row)\n",
    "    return result\n",
    "\n",
    "def print_matrix(matrix):\n",
    "    for row in matrix:\n",
    "        print(\" \".join(map(str, row)))\n",
    "\n",
    "def main():\n",
    "    try:\n",
    "        rows = int(input(\"Enter the number of rows: \"))\n",
    "        cols = int(input(\"Enter the number of columns: \"))\n",
    "\n",
    "        matrix1 = input_matrix(rows, cols)\n",
    "        matrix2 = input_matrix(rows, cols)\n",
    "\n",
    "        print(\"\\nMatrix 1:\")\n",
    "        print_matrix(matrix1)\n",
    "\n",
    "        print(\"\\nMatrix 2:\")\n",
    "        print_matrix(matrix2)\n",
    "\n",
    "        add_result = add_matrices(matrix1, matrix2)\n",
    "        subtract_result = subtract_matrices(matrix1, matrix2)\n",
    "\n",
    "        print(\"\\nMatrix Addition Result:\")\n",
    "        print_matrix(add_result)\n",
    "\n",
    "        print(\"\\nMatrix Subtraction Result:\")\n",
    "        print_matrix(subtract_result)\n",
    "\n",
    "    except ValueError:\n",
    "        print(\"Please enter valid numeric values for matrix elements.\")\n",
    "\n",
    "if __name__ == \"__main__\":\n",
    "    main()\n"
   ]
  },
  {
   "cell_type": "markdown",
   "metadata": {},
   "source": [
    "Q33) Write a program that calculates the greatest common divisor (GCD) of two numbers using the Euclidean\n",
    "algorithm."
   ]
  },
  {
   "cell_type": "code",
   "execution_count": 22,
   "metadata": {},
   "outputs": [
    {
     "name": "stdout",
     "output_type": "stream",
     "text": [
      "The GCD of 10 and 50 is 10\n"
     ]
    }
   ],
   "source": [
    "def gcd_euclidean(a, b):\n",
    "    while b:\n",
    "        a, b = b, a % b\n",
    "    return a\n",
    "\n",
    "# Input two numbers\n",
    "num1 = int(input(\"Enter the first number: \"))\n",
    "num2 = int(input(\"Enter the second number: \"))\n",
    "\n",
    "# Calculate GCD using the Euclidean algorithm\n",
    "result = gcd_euclidean(num1, num2)\n",
    "\n",
    "# Display the result\n",
    "print(f\"The GCD of {num1} and {num2} is {result}\")\n"
   ]
  },
  {
   "cell_type": "markdown",
   "metadata": {},
   "source": [
    "Q34) Build a program that performs matrix multiplication using nested loops and conditional statements."
   ]
  },
  {
   "cell_type": "code",
   "execution_count": 24,
   "metadata": {},
   "outputs": [
    {
     "name": "stdout",
     "output_type": "stream",
     "text": [
      "[1998, 1114]\n",
      "[4278, 3022]\n"
     ]
    }
   ],
   "source": [
    "def matrix_multiply(matrix1, matrix2):\n",
    "    # Check if the matrices can be multiplied\n",
    "    if len(matrix1[0]) != len(matrix2):\n",
    "        raise ValueError(\"Number of columns in matrix1 must be equal to the number of rows in matrix2\")\n",
    "\n",
    "    # Initialize an empty result matrix with the appropriate dimensions\n",
    "    result = [[0 for _ in range(len(matrix2[0]))] for _ in range(len(matrix1))]\n",
    "\n",
    "    # Perform matrix multiplication using nested loops\n",
    "    for i in range(len(matrix1)):\n",
    "        for j in range(len(matrix2[0])):\n",
    "            for k in range(len(matrix2)):\n",
    "                result[i][j] += matrix1[i][k] * matrix2[k][j]\n",
    "\n",
    "    return result\n",
    "\n",
    "# Example matrices\n",
    "matrixA = [\n",
    "    [10, 29, 37],\n",
    "    [45, 58, 61],\n",
    "]\n",
    "\n",
    "matrixB = [\n",
    "    [17, 38],\n",
    "    [49, 10],\n",
    "    [11, 12],\n",
    "]\n",
    "\n",
    "# Perform matrix multiplication\n",
    "result_matrix = matrix_multiply(matrixA, matrixB)\n",
    "\n",
    "# Print the result\n",
    "for row in result_matrix:\n",
    "    print(row)\n"
   ]
  },
  {
   "cell_type": "markdown",
   "metadata": {},
   "source": [
    "Q35) Create a program that simulates a basic text-based tic-tac-toe game against the computer."
   ]
  },
  {
   "cell_type": "code",
   "execution_count": 41,
   "metadata": {},
   "outputs": [
    {
     "name": "stdout",
     "output_type": "stream",
     "text": [
      "\n",
      "\n",
      "- | - | -     1 | 2 | 3\n",
      "---------\n",
      "- | - | -     4 | 5 | 6\n",
      "---------\n",
      "- | - | -     7 | 8 | 9\n",
      "\n",
      "\n",
      "X's turn.\n",
      "\n",
      "\n",
      "- | - | -     1 | 2 | 3\n",
      "---------\n",
      "- | - | -     4 | 5 | 6\n",
      "---------\n",
      "X | - | -     7 | 8 | 9\n",
      "\n",
      "\n",
      "O's turn.\n",
      "\n",
      "\n",
      "- | - | O     1 | 2 | 3\n",
      "---------\n",
      "- | - | -     4 | 5 | 6\n",
      "---------\n",
      "X | - | -     7 | 8 | 9\n",
      "\n",
      "\n",
      "X's turn.\n",
      "\n",
      "\n",
      "- | - | O     1 | 2 | 3\n",
      "---------\n",
      "- | - | X     4 | 5 | 6\n",
      "---------\n",
      "X | - | -     7 | 8 | 9\n",
      "\n",
      "\n",
      "O's turn.\n",
      "\n",
      "\n",
      "- | - | O     1 | 2 | 3\n",
      "---------\n",
      "- | - | X     4 | 5 | 6\n",
      "---------\n",
      "X | O | -     7 | 8 | 9\n",
      "\n",
      "\n",
      "X's turn.\n",
      "\n",
      "\n",
      "- | - | O     1 | 2 | 3\n",
      "---------\n",
      "- | X | X     4 | 5 | 6\n",
      "---------\n",
      "X | O | -     7 | 8 | 9\n",
      "\n",
      "\n",
      "O's turn.\n",
      "\n",
      "\n",
      "- | O | O     1 | 2 | 3\n",
      "---------\n",
      "- | X | X     4 | 5 | 6\n",
      "---------\n",
      "X | O | -     7 | 8 | 9\n",
      "\n",
      "\n",
      "X's turn.\n",
      "\n",
      "\n",
      "X | O | O     1 | 2 | 3\n",
      "---------\n",
      "- | X | X     4 | 5 | 6\n",
      "---------\n",
      "X | O | -     7 | 8 | 9\n",
      "\n",
      "\n",
      "O's turn.\n",
      "\n",
      "\n",
      "X | O | O     1 | 2 | 3\n",
      "---------\n",
      "O | X | X     4 | 5 | 6\n",
      "---------\n",
      "X | O | -     7 | 8 | 9\n",
      "\n",
      "\n",
      "X's turn.\n",
      "Opps! You have entered an incorrect spot. Try again.\n",
      "Opps! You have entered an incorrect spot. Try again.\n",
      "Opps! You have entered an incorrect spot. Try again.\n",
      "Opps! You have entered an incorrect spot. Try again.\n",
      "Opps! You have entered an incorrect spot. Try again.\n",
      "Opps! You have entered an incorrect spot. Try again.\n",
      "Opps! You have entered an incorrect spot. Try again.\n",
      "Opps! You have entered an incorrect spot. Try again.\n",
      "Opps! You have entered an incorrect spot. Try again.\n",
      "Opps! You have entered an incorrect spot. Try again.\n",
      "Opps! You have entered an incorrect spot. Try again.\n",
      "Opps! You have entered an incorrect spot. Try again.\n",
      "Opps! You have entered an incorrect spot. Try again.\n",
      "Opps! You have entered an incorrect spot. Try again.\n",
      "Opps! You have entered an incorrect spot. Try again.\n",
      "Opps! You have entered an incorrect spot. Try again.\n",
      "\n",
      "\n",
      "X | O | O     1 | 2 | 3\n",
      "---------\n",
      "O | X | X     4 | 5 | 6\n",
      "---------\n",
      "X | O | X     7 | 8 | 9\n",
      "\n",
      "\n",
      " CongratulationsXyou won!\n"
     ]
    }
   ],
   "source": [
    "\n",
    "import tkinter as tk \n",
    "import tkinter.messagebox\n",
    "\n",
    "root = tk.Tk()\n",
    "#tk.title('Tic Tac Toe Game')\n",
    " \n",
    "#game board to hold data\n",
    "\n",
    "game_board = [\"-\", \"-\", \"-\",\n",
    "              \"-\", \"-\", \"-\",\n",
    "              \"-\", \"-\", \"-\"]\n",
    "\n",
    "# know if game over\n",
    "game_still_on = True\n",
    "\n",
    "winner = None\n",
    "\n",
    "# current player \n",
    "current_player = \"X\"\n",
    "\n",
    "# Play game \n",
    "def play_game():\n",
    "\n",
    "  # display game board\n",
    "  display_game_board()\n",
    "\n",
    "  while game_still_on:\n",
    "\n",
    "    # Handle a turn\n",
    "    handle_turn(current_player)\n",
    "\n",
    "    # Check if game over\n",
    "    check_if_game_over()\n",
    "\n",
    "    # Flip to the other player\n",
    "    flip_player()\n",
    "  \n",
    "  # print the winner or tie\n",
    "  if winner == \"X\" or winner == \"O\":\n",
    "    print(\" Congratulations\" + winner + \"you won!\" )\n",
    "  elif winner == None:\n",
    "    print(\"Game draw.\")\n",
    "\n",
    "def display_game_board():\n",
    "  print(\"\\n\")\n",
    "  print(game_board[0] + \" | \" + game_board[1] + \" | \" + game_board[2] + \"     1 | 2 | 3\")\n",
    "  print(\"---------\")\n",
    "  print(game_board[3] + \" | \" + game_board[4] + \" | \" + game_board[5] + \"     4 | 5 | 6\")\n",
    "  print(\"---------\")\n",
    "  print(game_board[6] + \" | \" + game_board[7] + \" | \" + game_board[8] + \"     7 | 8 | 9\")\n",
    "  print(\"\\n\")\n",
    "\n",
    "\n",
    "def handle_turn(player):\n",
    "\n",
    "  # input spot from player\n",
    "  print(player + \"'s turn.\")\n",
    "  spot = input(\"Choose a spot from 1-9: \")\n",
    "\n",
    "  valid = False\n",
    "  while not valid:\n",
    "    \n",
    "    while spot not in [\"1\", \"2\", \"3\", \"4\",      \"5\", \"6\", \"7\", \"8\", \"9\"]:\n",
    "        spot = input(\"Hey! Choose a spot from 1-9: \")\n",
    " \n",
    "    spot = int(spot) - 1\n",
    "\n",
    "    if game_board[spot] ==\"-\":\n",
    "      valid = True\n",
    "    else:\n",
    "     print(\"Opps! You have entered an incorrect spot. Try again.\")\n",
    "\n",
    "  game_board[spot] = player\n",
    "\n",
    "  # display game board\n",
    "  display_game_board()\n",
    "\n",
    "# Check if game over\n",
    "def check_if_game_over():\n",
    "  check_for_winner()\n",
    "  check_for_tie()\n",
    "\n",
    "\n",
    "# Check winner\n",
    "def check_for_winner():\n",
    "  \n",
    "  global winner\n",
    "  \n",
    "  row_winner = check_rows()\n",
    "  column_winner = check_columns()\n",
    "  diagonal_winner = check_diagonals()\n",
    "  # Determine the winner\n",
    "  if row_winner:\n",
    "    winner = row_winner\n",
    "  elif column_winner:\n",
    "    winner = column_winner\n",
    "  elif diagonal_winner:\n",
    "    winner = diagonal_winner\n",
    "  else:\n",
    "    winner = None\n",
    "\n",
    "def check_rows():\n",
    "  \n",
    "  global game_still_on\n",
    "  \n",
    "  row_1 = game_board[0] == game_board[1] == game_board[2] != \"-\"\n",
    "  row_2 = game_board[3] == game_board[4] == game_board[5] != \"-\"\n",
    "  row_3 = game_board[6] == game_board[7] == game_board[8] != \"-\"\n",
    "  \n",
    "  if row_1 or row_2 or row_3:\n",
    "    game_still_on = False\n",
    "  # Return  winner\n",
    "  if row_1:\n",
    "    return game_board[0] \n",
    "  elif row_2:\n",
    "    return game_board[3] \n",
    "  elif row_3:\n",
    "    return game_board[6] \n",
    "  else:\n",
    "    return None\n",
    "\n",
    "def check_columns():\n",
    "  \n",
    "  global game_still_on\n",
    "  \n",
    "  column_1 = game_board[0] == game_board[3] == game_board[6] != \"-\"\n",
    "  column_2 = game_board[1] == game_board[4] == game_board[7] != \"-\"\n",
    "  column_3 = game_board[2] == game_board[5] == game_board[8] != \"-\"\n",
    "  \n",
    "  if column_1 or column_2 or column_3:\n",
    "    game_still_on = False\n",
    "  # Return the winner\n",
    "  if column_1:\n",
    "    return game_board[0] \n",
    "  elif column_2:\n",
    "    return game_board[1] \n",
    "  elif column_3:\n",
    "    return game_board[2] \n",
    "  else:\n",
    "    return None\n",
    "\n",
    "def check_diagonals():\n",
    "  \n",
    "  global game_still_on\n",
    "  \n",
    "  diagonal_1 = game_board[0] == game_board[4] == game_board[8] != \"-\"\n",
    "  diagonal_2 = game_board[2] == game_board[4] == game_board[6] != \"-\"\n",
    "  \n",
    "  if diagonal_1 or diagonal_2:\n",
    "    game_still_on = False\n",
    "  # Return the winner\n",
    "  if diagonal_1:\n",
    "    return game_board[0] \n",
    "  elif diagonal_2:\n",
    "    return game_board[2]\n",
    "  else:\n",
    "    return None\n",
    "#check tie\n",
    "def check_for_tie():\n",
    "  \n",
    "  global game_still_on\n",
    "  \n",
    "  if \"-\" not in game_board:\n",
    "    game_still_on = False\n",
    "    return True\n",
    "  else:\n",
    "    return False\n",
    "\n",
    "# Flip the current player \n",
    "def flip_player():\n",
    "  \n",
    "  global current_player\n",
    "  \n",
    "  if current_player == \"X\":\n",
    "    current_player = \"O\"\n",
    "  elif current_player == \"O\":\n",
    "    current_player = \"X\"\n",
    "#play game\n",
    "play_game()\n",
    "\n",
    "root.mainloop()"
   ]
  },
  {
   "cell_type": "markdown",
   "metadata": {},
   "source": [
    "Q36) Write a program that generates Fibonacci numbers up to a specified term using iterative methods."
   ]
  },
  {
   "cell_type": "code",
   "execution_count": 42,
   "metadata": {},
   "outputs": [
    {
     "name": "stdout",
     "output_type": "stream",
     "text": [
      "Fibonacci Sequence up to the 7 term(s):\n",
      "[0, 1, 1, 2, 3, 5, 8]\n"
     ]
    }
   ],
   "source": [
    "def generate_fibonacci(n):\n",
    "    fibonacci_sequence = []\n",
    "\n",
    "    # Handle the base cases\n",
    "    if n >= 1:\n",
    "        fibonacci_sequence.append(0)\n",
    "    if n >= 2:\n",
    "        fibonacci_sequence.append(1)\n",
    "\n",
    "    # Generate the Fibonacci sequence iteratively\n",
    "    for i in range(2, n):\n",
    "        next_fibonacci = fibonacci_sequence[-1] + fibonacci_sequence[-2]\n",
    "        fibonacci_sequence.append(next_fibonacci)\n",
    "\n",
    "    return fibonacci_sequence\n",
    "\n",
    "# Specify the term up to which you want to generate Fibonacci numbers\n",
    "n = int(input(\"Enter the number of Fibonacci terms to generate: \"))\n",
    "\n",
    "if n <= 0:\n",
    "    print(\"Please enter a positive integer.\")\n",
    "else:\n",
    "    fibonacci_sequence = generate_fibonacci(n)\n",
    "    print(\"Fibonacci Sequence up to the\", n, \"term(s):\")\n",
    "    print(fibonacci_sequence)\n"
   ]
  },
  {
   "cell_type": "markdown",
   "metadata": {},
   "source": [
    "Q37) Develop a program that calculates the nth term of the Fibonacci sequence using memoization."
   ]
  },
  {
   "cell_type": "code",
   "execution_count": 43,
   "metadata": {},
   "outputs": [
    {
     "name": "stdout",
     "output_type": "stream",
     "text": [
      "The 5th Fibonacci number is: 5\n"
     ]
    }
   ],
   "source": [
    "# Dictionary to store already computed Fibonacci numbers\n",
    "fibonacci_cache = {}\n",
    "\n",
    "def fibonacci(n):\n",
    "    # Check if the value is already in the cache\n",
    "    if n in fibonacci_cache:\n",
    "        return fibonacci_cache[n]\n",
    "    \n",
    "    # Compute the Fibonacci number using recursion\n",
    "    if n <= 1:\n",
    "        result = n\n",
    "    else:\n",
    "        result = fibonacci(n - 1) + fibonacci(n - 2)\n",
    "    \n",
    "    # Cache the result before returning it\n",
    "    fibonacci_cache[n] = result\n",
    "    return result\n",
    "\n",
    "# Input the value of n\n",
    "n = int(input(\"Enter the value of n: \"))\n",
    "\n",
    "# Calculate and print the nth Fibonacci number\n",
    "result = fibonacci(n)\n",
    "print(f\"The {n}th Fibonacci number is: {result}\")\n"
   ]
  },
  {
   "cell_type": "markdown",
   "metadata": {},
   "source": [
    "Q38) Create a program that generates a calendar for a given month and year using conditional statements."
   ]
  },
  {
   "cell_type": "code",
   "execution_count": 44,
   "metadata": {},
   "outputs": [
    {
     "name": "stdout",
     "output_type": "stream",
     "text": [
      "\n",
      "Calendar for 1999-7\n",
      "     July 1999\n",
      "Mo Tu We Th Fr Sa Su\n",
      "          1  2  3  4\n",
      " 5  6  7  8  9 10 11\n",
      "12 13 14 15 16 17 18\n",
      "19 20 21 22 23 24 25\n",
      "26 27 28 29 30 31\n",
      "\n"
     ]
    }
   ],
   "source": [
    "import calendar\n",
    "\n",
    "def generate_calendar(year, month):\n",
    "    cal = calendar.month(year, month)\n",
    "    return cal\n",
    "\n",
    "try:\n",
    "    year = int(input(\"Enter the year (e.g., 2023): \"))\n",
    "    month = int(input(\"Enter the month (1-12): \"))\n",
    "\n",
    "    if 1 <= month <= 12:\n",
    "        calendar_text = generate_calendar(year, month)\n",
    "        print(\"\\nCalendar for {}-{}\".format(year, month))\n",
    "        print(calendar_text)\n",
    "    else:\n",
    "        print(\"Invalid month. Please enter a month between 1 and 12.\")\n",
    "except ValueError:\n",
    "    print(\"Invalid input. Please enter valid year and month values.\")\n"
   ]
  },
  {
   "cell_type": "markdown",
   "metadata": {},
   "source": [
    "Q39) Build a program that simulates a basic text-based blackjack game against the computer."
   ]
  },
  {
   "cell_type": "code",
   "execution_count": 45,
   "metadata": {},
   "outputs": [
    {
     "name": "stdout",
     "output_type": "stream",
     "text": [
      "\n",
      "Your hand: 2, 3\n",
      "Computer's upcard: 2\n",
      "\n",
      "Your hand: 2, 3, 8\n",
      "Computer's hand: 2, 7, 2, 10\n",
      "Computer wins!\n"
     ]
    }
   ],
   "source": [
    "import random\n",
    "\n",
    "# Function to deal a card\n",
    "def deal_card():\n",
    "    cards = [2, 3, 4, 5, 6, 7, 8, 9, 10, 10, 10, 10, 11]  # 11 represents an Ace\n",
    "    return random.choice(cards)\n",
    "\n",
    "# Function to calculate the total value of a hand\n",
    "def calculate_hand_value(hand):\n",
    "    # Initialize variables\n",
    "    total_value = sum(hand)\n",
    "    num_aces = hand.count(11)  # Count the number of Aces\n",
    "    \n",
    "    # Adjust the total value to handle Aces\n",
    "    while total_value > 21 and num_aces:\n",
    "        total_value -= 10\n",
    "        num_aces -= 1\n",
    "    \n",
    "    return total_value\n",
    "\n",
    "# Function to display the cards in a hand\n",
    "def display_hand(hand):\n",
    "    card_names = []\n",
    "    for card in hand:\n",
    "        if card == 11:\n",
    "            card_names.append('Ace')\n",
    "        elif card == 10:\n",
    "            card_names.append('10')\n",
    "        else:\n",
    "            card_names.append(str(card))\n",
    "    return ', '.join(card_names)\n",
    "\n",
    "# Initialize the game\n",
    "player_hand = [deal_card(), deal_card()]\n",
    "computer_hand = [deal_card()]\n",
    "\n",
    "# Game loop\n",
    "while True:\n",
    "    # Display player's hand and computer's upcard\n",
    "    print(\"\\nYour hand:\", display_hand(player_hand))\n",
    "    print(\"Computer's upcard:\", display_hand([computer_hand[0]]))\n",
    "    \n",
    "    # Check for blackjack\n",
    "    if calculate_hand_value(player_hand) == 21:\n",
    "        print(\"Congratulations! You have a blackjack!\")\n",
    "        break\n",
    "    \n",
    "    # Ask the player to hit or stand\n",
    "    choice = input(\"Do you want to hit or stand? \").lower()\n",
    "    \n",
    "    # Deal a card to the player if they choose to hit\n",
    "    if choice == 'hit':\n",
    "        player_hand.append(deal_card())\n",
    "        \n",
    "        # Check if the player busted\n",
    "        if calculate_hand_value(player_hand) > 21:\n",
    "            print(\"\\nYour hand:\", display_hand(player_hand))\n",
    "            print(\"Computer's upcard:\", display_hand(computer_hand))\n",
    "            print(\"Bust! You lose.\")\n",
    "            break\n",
    "    \n",
    "    # Computer's turn\n",
    "    while calculate_hand_value(computer_hand) < 17:\n",
    "        computer_hand.append(deal_card())\n",
    "    \n",
    "    # Display the final hands\n",
    "    print(\"\\nYour hand:\", display_hand(player_hand))\n",
    "    print(\"Computer's hand:\", display_hand(computer_hand))\n",
    "    \n",
    "    # Determine the winner\n",
    "    player_value = calculate_hand_value(player_hand)\n",
    "    computer_value = calculate_hand_value(computer_hand)\n",
    "    \n",
    "    if player_value > 21:\n",
    "        print(\"Bust! You lose.\")\n",
    "    elif computer_value > 21 or player_value > computer_value:\n",
    "        print(\"Congratulations! You win!\")\n",
    "    elif player_value == computer_value:\n",
    "        print(\"It's a tie!\")\n",
    "    else:\n",
    "        print(\"Computer wins!\")\n",
    "\n",
    "    # Ask if the player wants to play again\n",
    "    play_again = input(\"Do you want to play again? (yes/no) \").lower()\n",
    "    if play_again != 'yes':\n",
    "        break\n"
   ]
  },
  {
   "cell_type": "markdown",
   "metadata": {},
   "source": [
    "Q40) Write a program that generates the prime factors of a given number using trial division."
   ]
  },
  {
   "cell_type": "code",
   "execution_count": 46,
   "metadata": {},
   "outputs": [
    {
     "name": "stdout",
     "output_type": "stream",
     "text": [
      "7 is a prime number.\n"
     ]
    }
   ],
   "source": [
    "def prime_factors(n):\n",
    "    factors = []\n",
    "    divisor = 2  # Start with the smallest prime number\n",
    "    \n",
    "    while divisor <= n:\n",
    "        if n % divisor == 0:\n",
    "            factors.append(divisor)\n",
    "            n = n // divisor  # Divide n by the divisor as many times as possible\n",
    "        else:\n",
    "            divisor += 1  # If the current divisor doesn't divide n, increment to the next number\n",
    "    \n",
    "    return factors\n",
    "\n",
    "# Input a number from the user\n",
    "try:\n",
    "    num = int(input(\"Enter a positive integer: \"))\n",
    "    \n",
    "    if num <= 0:\n",
    "        print(\"Please enter a positive integer.\")\n",
    "    else:\n",
    "        factors = prime_factors(num)\n",
    "        \n",
    "        if len(factors) == 1:\n",
    "            print(f\"{num} is a prime number.\")\n",
    "        else:\n",
    "            print(f\"The prime factors of {num} are: {', '.join(map(str, factors))}\")\n",
    "except ValueError:\n",
    "    print(\"Invalid input. Please enter a valid positive integer.\")\n"
   ]
  }
 ],
 "metadata": {
  "kernelspec": {
   "display_name": "Python 3",
   "language": "python",
   "name": "python3"
  },
  "language_info": {
   "codemirror_mode": {
    "name": "ipython",
    "version": 3
   },
   "file_extension": ".py",
   "mimetype": "text/x-python",
   "name": "python",
   "nbconvert_exporter": "python",
   "pygments_lexer": "ipython3",
   "version": "3.11.5"
  },
  "orig_nbformat": 4
 },
 "nbformat": 4,
 "nbformat_minor": 2
}
